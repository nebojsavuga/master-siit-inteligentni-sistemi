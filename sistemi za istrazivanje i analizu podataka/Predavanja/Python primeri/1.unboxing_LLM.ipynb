{
 "cells": [
  {
   "cell_type": "code",
   "execution_count": 17,
   "metadata": {},
   "outputs": [],
   "source": [
    "import pandas as pd"
   ]
  },
  {
   "cell_type": "code",
   "execution_count": 19,
   "metadata": {},
   "outputs": [],
   "source": [
    "df = pd.read_csv('D01_eng_cols.csv', delimiter=';')"
   ]
  },
  {
   "cell_type": "markdown",
   "metadata": {},
   "source": [
    "#### Razdvajamo vrednosti atributa Date po razmaku (space) da bi izdvojili vreme iz datuma."
   ]
  },
  {
   "cell_type": "code",
   "execution_count": 22,
   "metadata": {
    "tags": []
   },
   "outputs": [],
   "source": [
    "import pandasai as pai\n",
    "from pandasai import Agent\n",
    "import os\n",
    "\n",
    "pai.clear_cache()\n",
    "\n",
    "os.environ[\"PANDASAI_API_KEY\"] = os.environ.get('PANDASAI_API_KEY')"
   ]
  },
  {
   "cell_type": "code",
   "execution_count": 24,
   "metadata": {
    "tags": []
   },
   "outputs": [
    {
     "data": {
      "text/html": [
       "<div>\n",
       "<style scoped>\n",
       "    .dataframe tbody tr th:only-of-type {\n",
       "        vertical-align: middle;\n",
       "    }\n",
       "\n",
       "    .dataframe tbody tr th {\n",
       "        vertical-align: top;\n",
       "    }\n",
       "\n",
       "    .dataframe thead th {\n",
       "        text-align: right;\n",
       "    }\n",
       "</style>\n",
       "<table border=\"1\" class=\"dataframe\">\n",
       "  <thead>\n",
       "    <tr style=\"text-align: right;\">\n",
       "      <th></th>\n",
       "      <th>Unnamed: 0</th>\n",
       "      <th>Date</th>\n",
       "      <th>membership_card_number</th>\n",
       "      <th>age</th>\n",
       "      <th>region</th>\n",
       "      <th>product_classification</th>\n",
       "      <th>product_code</th>\n",
       "      <th>quantity</th>\n",
       "      <th>cost</th>\n",
       "      <th>sales</th>\n",
       "    </tr>\n",
       "  </thead>\n",
       "  <tbody>\n",
       "    <tr>\n",
       "      <th>0</th>\n",
       "      <td>0</td>\n",
       "      <td>2001-01-01 00:00:00</td>\n",
       "      <td>141833</td>\n",
       "      <td>F</td>\n",
       "      <td>F</td>\n",
       "      <td>130207</td>\n",
       "      <td>4710105011011</td>\n",
       "      <td>2</td>\n",
       "      <td>44</td>\n",
       "      <td>52</td>\n",
       "    </tr>\n",
       "    <tr>\n",
       "      <th>1</th>\n",
       "      <td>1</td>\n",
       "      <td>2001-01-01 00:00:00</td>\n",
       "      <td>1376753</td>\n",
       "      <td>E</td>\n",
       "      <td>E</td>\n",
       "      <td>110217</td>\n",
       "      <td>4710265849066</td>\n",
       "      <td>1</td>\n",
       "      <td>150</td>\n",
       "      <td>129</td>\n",
       "    </tr>\n",
       "    <tr>\n",
       "      <th>2</th>\n",
       "      <td>2</td>\n",
       "      <td>2001-01-01 00:00:00</td>\n",
       "      <td>1603071</td>\n",
       "      <td>E</td>\n",
       "      <td>G</td>\n",
       "      <td>100201</td>\n",
       "      <td>4712019100607</td>\n",
       "      <td>1</td>\n",
       "      <td>35</td>\n",
       "      <td>39</td>\n",
       "    </tr>\n",
       "    <tr>\n",
       "      <th>3</th>\n",
       "      <td>3</td>\n",
       "      <td>2001-01-01 00:00:00</td>\n",
       "      <td>1738667</td>\n",
       "      <td>E</td>\n",
       "      <td>F</td>\n",
       "      <td>530105</td>\n",
       "      <td>4710168702901</td>\n",
       "      <td>1</td>\n",
       "      <td>94</td>\n",
       "      <td>119</td>\n",
       "    </tr>\n",
       "    <tr>\n",
       "      <th>4</th>\n",
       "      <td>4</td>\n",
       "      <td>2001-01-01 00:00:00</td>\n",
       "      <td>2141497</td>\n",
       "      <td>A</td>\n",
       "      <td>B</td>\n",
       "      <td>320407</td>\n",
       "      <td>4710431339148</td>\n",
       "      <td>1</td>\n",
       "      <td>100</td>\n",
       "      <td>159</td>\n",
       "    </tr>\n",
       "  </tbody>\n",
       "</table>\n",
       "</div>"
      ],
      "text/plain": [
       "   Unnamed: 0                 Date  membership_card_number age region  \\\n",
       "0           0  2001-01-01 00:00:00                  141833  F      F    \n",
       "1           1  2001-01-01 00:00:00                 1376753  E      E    \n",
       "2           2  2001-01-01 00:00:00                 1603071  E      G    \n",
       "3           3  2001-01-01 00:00:00                 1738667  E      F    \n",
       "4           4  2001-01-01 00:00:00                 2141497  A      B    \n",
       "\n",
       "   product_classification   product_code  quantity  cost  sales  \n",
       "0                  130207  4710105011011         2    44     52  \n",
       "1                  110217  4710265849066         1   150    129  \n",
       "2                  100201  4712019100607         1    35     39  \n",
       "3                  530105  4710168702901         1    94    119  \n",
       "4                  320407  4710431339148         1   100    159  "
      ]
     },
     "execution_count": 24,
     "metadata": {},
     "output_type": "execute_result"
    }
   ],
   "source": [
    "df.head(5)"
   ]
  },
  {
   "cell_type": "code",
   "execution_count": 30,
   "metadata": {
    "tags": []
   },
   "outputs": [
    {
     "data": {
      "text/html": [
       "<div>\n",
       "<style scoped>\n",
       "    .dataframe tbody tr th:only-of-type {\n",
       "        vertical-align: middle;\n",
       "    }\n",
       "\n",
       "    .dataframe tbody tr th {\n",
       "        vertical-align: top;\n",
       "    }\n",
       "\n",
       "    .dataframe thead th {\n",
       "        text-align: right;\n",
       "    }\n",
       "</style>\n",
       "<table border=\"1\" class=\"dataframe\">\n",
       "  <thead>\n",
       "    <tr style=\"text-align: right;\">\n",
       "      <th></th>\n",
       "      <th>Unnamed: 0</th>\n",
       "      <th>Date</th>\n",
       "      <th>membership_card_number</th>\n",
       "      <th>age</th>\n",
       "      <th>region</th>\n",
       "      <th>product_classification</th>\n",
       "      <th>product_code</th>\n",
       "      <th>quantity</th>\n",
       "      <th>cost</th>\n",
       "      <th>sales</th>\n",
       "    </tr>\n",
       "  </thead>\n",
       "  <tbody>\n",
       "    <tr>\n",
       "      <th>0</th>\n",
       "      <td>0</td>\n",
       "      <td>2001-01-01</td>\n",
       "      <td>141833</td>\n",
       "      <td>F</td>\n",
       "      <td>F</td>\n",
       "      <td>130207</td>\n",
       "      <td>4710105011011</td>\n",
       "      <td>2</td>\n",
       "      <td>44</td>\n",
       "      <td>52</td>\n",
       "    </tr>\n",
       "    <tr>\n",
       "      <th>1</th>\n",
       "      <td>1</td>\n",
       "      <td>2001-01-01</td>\n",
       "      <td>1376753</td>\n",
       "      <td>E</td>\n",
       "      <td>E</td>\n",
       "      <td>110217</td>\n",
       "      <td>4710265849066</td>\n",
       "      <td>1</td>\n",
       "      <td>150</td>\n",
       "      <td>129</td>\n",
       "    </tr>\n",
       "    <tr>\n",
       "      <th>2</th>\n",
       "      <td>2</td>\n",
       "      <td>2001-01-01</td>\n",
       "      <td>1603071</td>\n",
       "      <td>E</td>\n",
       "      <td>G</td>\n",
       "      <td>100201</td>\n",
       "      <td>4712019100607</td>\n",
       "      <td>1</td>\n",
       "      <td>35</td>\n",
       "      <td>39</td>\n",
       "    </tr>\n",
       "    <tr>\n",
       "      <th>3</th>\n",
       "      <td>3</td>\n",
       "      <td>2001-01-01</td>\n",
       "      <td>1738667</td>\n",
       "      <td>E</td>\n",
       "      <td>F</td>\n",
       "      <td>530105</td>\n",
       "      <td>4710168702901</td>\n",
       "      <td>1</td>\n",
       "      <td>94</td>\n",
       "      <td>119</td>\n",
       "    </tr>\n",
       "    <tr>\n",
       "      <th>4</th>\n",
       "      <td>4</td>\n",
       "      <td>2001-01-01</td>\n",
       "      <td>2141497</td>\n",
       "      <td>A</td>\n",
       "      <td>B</td>\n",
       "      <td>320407</td>\n",
       "      <td>4710431339148</td>\n",
       "      <td>1</td>\n",
       "      <td>100</td>\n",
       "      <td>159</td>\n",
       "    </tr>\n",
       "    <tr>\n",
       "      <th>...</th>\n",
       "      <td>...</td>\n",
       "      <td>...</td>\n",
       "      <td>...</td>\n",
       "      <td>...</td>\n",
       "      <td>...</td>\n",
       "      <td>...</td>\n",
       "      <td>...</td>\n",
       "      <td>...</td>\n",
       "      <td>...</td>\n",
       "      <td>...</td>\n",
       "    </tr>\n",
       "    <tr>\n",
       "      <th>216859</th>\n",
       "      <td>216859</td>\n",
       "      <td>2001-01-31</td>\n",
       "      <td>1024395</td>\n",
       "      <td>E</td>\n",
       "      <td>E</td>\n",
       "      <td>110508</td>\n",
       "      <td>9300644131759</td>\n",
       "      <td>1</td>\n",
       "      <td>32</td>\n",
       "      <td>39</td>\n",
       "    </tr>\n",
       "    <tr>\n",
       "      <th>216860</th>\n",
       "      <td>216860</td>\n",
       "      <td>2001-01-31</td>\n",
       "      <td>2146263</td>\n",
       "      <td>C</td>\n",
       "      <td>E</td>\n",
       "      <td>110507</td>\n",
       "      <td>4710980000056</td>\n",
       "      <td>1</td>\n",
       "      <td>58</td>\n",
       "      <td>58</td>\n",
       "    </tr>\n",
       "    <tr>\n",
       "      <th>216861</th>\n",
       "      <td>216861</td>\n",
       "      <td>2001-01-31</td>\n",
       "      <td>2146263</td>\n",
       "      <td>C</td>\n",
       "      <td>E</td>\n",
       "      <td>130208</td>\n",
       "      <td>4710088436207</td>\n",
       "      <td>1</td>\n",
       "      <td>15</td>\n",
       "      <td>19</td>\n",
       "    </tr>\n",
       "    <tr>\n",
       "      <th>216862</th>\n",
       "      <td>216862</td>\n",
       "      <td>2001-01-31</td>\n",
       "      <td>2124032</td>\n",
       "      <td>D</td>\n",
       "      <td>F</td>\n",
       "      <td>120107</td>\n",
       "      <td>4716759020133</td>\n",
       "      <td>1</td>\n",
       "      <td>110</td>\n",
       "      <td>140</td>\n",
       "    </tr>\n",
       "    <tr>\n",
       "      <th>216863</th>\n",
       "      <td>216863</td>\n",
       "      <td>2001-01-31</td>\n",
       "      <td>1814002</td>\n",
       "      <td>J</td>\n",
       "      <td>G</td>\n",
       "      <td>100311</td>\n",
       "      <td>4710022101208</td>\n",
       "      <td>1</td>\n",
       "      <td>197</td>\n",
       "      <td>198</td>\n",
       "    </tr>\n",
       "  </tbody>\n",
       "</table>\n",
       "<p>216864 rows × 10 columns</p>\n",
       "</div>"
      ],
      "text/plain": [
       "        Unnamed: 0        Date  membership_card_number age region  \\\n",
       "0                0  2001-01-01                  141833  F      F    \n",
       "1                1  2001-01-01                 1376753  E      E    \n",
       "2                2  2001-01-01                 1603071  E      G    \n",
       "3                3  2001-01-01                 1738667  E      F    \n",
       "4                4  2001-01-01                 2141497  A      B    \n",
       "...            ...         ...                     ...  ..    ...   \n",
       "216859      216859  2001-01-31                 1024395  E      E    \n",
       "216860      216860  2001-01-31                 2146263  C      E    \n",
       "216861      216861  2001-01-31                 2146263  C      E    \n",
       "216862      216862  2001-01-31                 2124032  D      F    \n",
       "216863      216863  2001-01-31                 1814002  J      G    \n",
       "\n",
       "        product_classification   product_code  quantity  cost  sales  \n",
       "0                       130207  4710105011011         2    44     52  \n",
       "1                       110217  4710265849066         1   150    129  \n",
       "2                       100201  4712019100607         1    35     39  \n",
       "3                       530105  4710168702901         1    94    119  \n",
       "4                       320407  4710431339148         1   100    159  \n",
       "...                        ...            ...       ...   ...    ...  \n",
       "216859                  110508  9300644131759         1    32     39  \n",
       "216860                  110507  4710980000056         1    58     58  \n",
       "216861                  130208  4710088436207         1    15     19  \n",
       "216862                  120107  4716759020133         1   110    140  \n",
       "216863                  100311  4710022101208         1   197    198  \n",
       "\n",
       "[216864 rows x 10 columns]"
      ]
     },
     "execution_count": 30,
     "metadata": {},
     "output_type": "execute_result"
    }
   ],
   "source": [
    "agent = Agent(df)\n",
    "agent.chat('Remove the time from the Date arrtibute. Leave only the date.')"
   ]
  },
  {
   "cell_type": "markdown",
   "metadata": {},
   "source": [
    "### Tipovi podataka ###"
   ]
  },
  {
   "cell_type": "code",
   "execution_count": 43,
   "metadata": {},
   "outputs": [
    {
     "name": "stdout",
     "output_type": "stream",
     "text": [
      "<class 'pandas.core.frame.DataFrame'>\n",
      "RangeIndex: 216864 entries, 0 to 216863\n",
      "Data columns (total 9 columns):\n",
      " #   Column                  Non-Null Count   Dtype \n",
      "---  ------                  --------------   ----- \n",
      " 0   Date                    216864 non-null  object\n",
      " 1   membership_card_number  216864 non-null  int64 \n",
      " 2   age                     216864 non-null  object\n",
      " 3   region                  216864 non-null  object\n",
      " 4   product_classification  216864 non-null  int64 \n",
      " 5   product_code            216864 non-null  int64 \n",
      " 6   quantity                216864 non-null  int64 \n",
      " 7   cost                    216864 non-null  int64 \n",
      " 8   sales                   216864 non-null  int64 \n",
      "dtypes: int64(6), object(3)\n",
      "memory usage: 14.9+ MB\n"
     ]
    }
   ],
   "source": [
    "df.info()"
   ]
  },
  {
   "cell_type": "markdown",
   "metadata": {},
   "source": [
    "#### Bilo bi dobro da tipove podataka odredimo tako da nam budu od koristi u kasnijoj analizi. Na primer Date bi trebalo da konvertujemo u DateTime, mebership_card_number je verovatno string jer je to u suštini id mušterije, age i region su stringovi itd."
   ]
  },
  {
   "cell_type": "code",
   "execution_count": 36,
   "metadata": {
    "tags": []
   },
   "outputs": [
    {
     "name": "stderr",
     "output_type": "stream",
     "text": [
      "Traceback (most recent call last):\n",
      "  File \"C:\\Users\\kocha\\anaconda3\\Lib\\site-packages\\pandasai\\pipelines\\chat\\generate_chat_pipeline.py\", line 335, in run\n",
      "    ).run(input)\n",
      "      ^^^^^^^^^^\n",
      "  File \"C:\\Users\\kocha\\anaconda3\\Lib\\site-packages\\pandasai\\pipelines\\pipeline.py\", line 137, in run\n",
      "    raise e\n",
      "  File \"C:\\Users\\kocha\\anaconda3\\Lib\\site-packages\\pandasai\\pipelines\\pipeline.py\", line 101, in run\n",
      "    step_output = logic.execute(\n",
      "                  ^^^^^^^^^^^^^^\n",
      "  File \"C:\\Users\\kocha\\anaconda3\\Lib\\site-packages\\pandasai\\pipelines\\chat\\code_execution.py\", line 113, in execute\n",
      "    raise e\n",
      "  File \"C:\\Users\\kocha\\anaconda3\\Lib\\site-packages\\pandasai\\pipelines\\chat\\code_execution.py\", line 97, in execute\n",
      "    raise InvalidOutputValueMismatch(\n",
      "pandasai.exceptions.InvalidOutputValueMismatch: Value type <class 'list'> must match with type list\n"
     ]
    },
    {
     "data": {
      "text/plain": [
       "\"Unfortunately, I was not able to answer your question, because of the following error:\\n\\nValue type <class 'list'> must match with type list\\n\""
      ]
     },
     "execution_count": 36,
     "metadata": {},
     "output_type": "execute_result"
    }
   ],
   "source": [
    "agent.chat('Convert the Date arrtibute to datetime type.')"
   ]
  },
  {
   "cell_type": "code",
   "execution_count": 46,
   "metadata": {},
   "outputs": [
    {
     "data": {
      "text/html": [
       "<div>\n",
       "<style scoped>\n",
       "    .dataframe tbody tr th:only-of-type {\n",
       "        vertical-align: middle;\n",
       "    }\n",
       "\n",
       "    .dataframe tbody tr th {\n",
       "        vertical-align: top;\n",
       "    }\n",
       "\n",
       "    .dataframe thead th {\n",
       "        text-align: right;\n",
       "    }\n",
       "</style>\n",
       "<table border=\"1\" class=\"dataframe\">\n",
       "  <thead>\n",
       "    <tr style=\"text-align: right;\">\n",
       "      <th></th>\n",
       "      <th>Date</th>\n",
       "      <th>membership_card_number</th>\n",
       "      <th>age</th>\n",
       "      <th>region</th>\n",
       "      <th>product_classification</th>\n",
       "      <th>product_code</th>\n",
       "      <th>quantity</th>\n",
       "      <th>cost</th>\n",
       "      <th>sales</th>\n",
       "    </tr>\n",
       "  </thead>\n",
       "  <tbody>\n",
       "    <tr>\n",
       "      <th>0</th>\n",
       "      <td>2001-01-01</td>\n",
       "      <td>141833</td>\n",
       "      <td>F</td>\n",
       "      <td>F</td>\n",
       "      <td>130207</td>\n",
       "      <td>4710105011011</td>\n",
       "      <td>2</td>\n",
       "      <td>44</td>\n",
       "      <td>52</td>\n",
       "    </tr>\n",
       "    <tr>\n",
       "      <th>1</th>\n",
       "      <td>2001-01-01</td>\n",
       "      <td>1376753</td>\n",
       "      <td>E</td>\n",
       "      <td>E</td>\n",
       "      <td>110217</td>\n",
       "      <td>4710265849066</td>\n",
       "      <td>1</td>\n",
       "      <td>150</td>\n",
       "      <td>129</td>\n",
       "    </tr>\n",
       "    <tr>\n",
       "      <th>2</th>\n",
       "      <td>2001-01-01</td>\n",
       "      <td>1603071</td>\n",
       "      <td>E</td>\n",
       "      <td>G</td>\n",
       "      <td>100201</td>\n",
       "      <td>4712019100607</td>\n",
       "      <td>1</td>\n",
       "      <td>35</td>\n",
       "      <td>39</td>\n",
       "    </tr>\n",
       "    <tr>\n",
       "      <th>3</th>\n",
       "      <td>2001-01-01</td>\n",
       "      <td>1738667</td>\n",
       "      <td>E</td>\n",
       "      <td>F</td>\n",
       "      <td>530105</td>\n",
       "      <td>4710168702901</td>\n",
       "      <td>1</td>\n",
       "      <td>94</td>\n",
       "      <td>119</td>\n",
       "    </tr>\n",
       "    <tr>\n",
       "      <th>4</th>\n",
       "      <td>2001-01-01</td>\n",
       "      <td>2141497</td>\n",
       "      <td>A</td>\n",
       "      <td>B</td>\n",
       "      <td>320407</td>\n",
       "      <td>4710431339148</td>\n",
       "      <td>1</td>\n",
       "      <td>100</td>\n",
       "      <td>159</td>\n",
       "    </tr>\n",
       "  </tbody>\n",
       "</table>\n",
       "</div>"
      ],
      "text/plain": [
       "        Date  membership_card_number age region  product_classification  \\\n",
       "0 2001-01-01                  141833  F      F                   130207   \n",
       "1 2001-01-01                 1376753  E      E                   110217   \n",
       "2 2001-01-01                 1603071  E      G                   100201   \n",
       "3 2001-01-01                 1738667  E      F                   530105   \n",
       "4 2001-01-01                 2141497  A      B                   320407   \n",
       "\n",
       "    product_code  quantity  cost  sales  \n",
       "0  4710105011011         2    44     52  \n",
       "1  4710265849066         1   150    129  \n",
       "2  4712019100607         1    35     39  \n",
       "3  4710168702901         1    94    119  \n",
       "4  4710431339148         1   100    159  "
      ]
     },
     "execution_count": 46,
     "metadata": {},
     "output_type": "execute_result"
    }
   ],
   "source": [
    "df['Date'] = pd.to_datetime(df['Date'])\n",
    "df.head()"
   ]
  },
  {
   "cell_type": "code",
   "execution_count": 48,
   "metadata": {},
   "outputs": [
    {
     "name": "stdout",
     "output_type": "stream",
     "text": [
      "<class 'pandas.core.frame.DataFrame'>\n",
      "RangeIndex: 216864 entries, 0 to 216863\n",
      "Data columns (total 9 columns):\n",
      " #   Column                  Non-Null Count   Dtype         \n",
      "---  ------                  --------------   -----         \n",
      " 0   Date                    216864 non-null  datetime64[ns]\n",
      " 1   membership_card_number  216864 non-null  int64         \n",
      " 2   age                     216864 non-null  object        \n",
      " 3   region                  216864 non-null  object        \n",
      " 4   product_classification  216864 non-null  int64         \n",
      " 5   product_code            216864 non-null  int64         \n",
      " 6   quantity                216864 non-null  int64         \n",
      " 7   cost                    216864 non-null  int64         \n",
      " 8   sales                   216864 non-null  int64         \n",
      "dtypes: datetime64[ns](1), int64(6), object(2)\n",
      "memory usage: 14.9+ MB\n"
     ]
    }
   ],
   "source": [
    "df.info()"
   ]
  },
  {
   "cell_type": "code",
   "execution_count": 50,
   "metadata": {},
   "outputs": [
    {
     "data": {
      "text/plain": [
       "0          1\n",
       "1          1\n",
       "2          1\n",
       "3          1\n",
       "4          1\n",
       "          ..\n",
       "216859    31\n",
       "216860    31\n",
       "216861    31\n",
       "216862    31\n",
       "216863    31\n",
       "Name: Date, Length: 216864, dtype: int32"
      ]
     },
     "execution_count": 50,
     "metadata": {},
     "output_type": "execute_result"
    }
   ],
   "source": [
    "df['Date'].dt.day"
   ]
  },
  {
   "cell_type": "code",
   "execution_count": 52,
   "metadata": {},
   "outputs": [],
   "source": [
    "df['membership_card_number'] = df['membership_card_number'].astype(str)"
   ]
  },
  {
   "cell_type": "code",
   "execution_count": 54,
   "metadata": {},
   "outputs": [
    {
     "name": "stdout",
     "output_type": "stream",
     "text": [
      "<class 'pandas.core.frame.DataFrame'>\n",
      "RangeIndex: 216864 entries, 0 to 216863\n",
      "Data columns (total 9 columns):\n",
      " #   Column                  Non-Null Count   Dtype         \n",
      "---  ------                  --------------   -----         \n",
      " 0   Date                    216864 non-null  datetime64[ns]\n",
      " 1   membership_card_number  216864 non-null  object        \n",
      " 2   age                     216864 non-null  object        \n",
      " 3   region                  216864 non-null  object        \n",
      " 4   product_classification  216864 non-null  int64         \n",
      " 5   product_code            216864 non-null  int64         \n",
      " 6   quantity                216864 non-null  int64         \n",
      " 7   cost                    216864 non-null  int64         \n",
      " 8   sales                   216864 non-null  int64         \n",
      "dtypes: datetime64[ns](1), int64(5), object(3)\n",
      "memory usage: 14.9+ MB\n"
     ]
    }
   ],
   "source": [
    "df.info()\n",
    "#stringovi se prikazuju kao tip object"
   ]
  },
  {
   "cell_type": "code",
   "execution_count": 56,
   "metadata": {},
   "outputs": [],
   "source": [
    "df['product_classification'] = df['product_classification'].astype(str)\n",
    "df['product_code'] = df['product_code'].astype(str)"
   ]
  },
  {
   "cell_type": "code",
   "execution_count": 58,
   "metadata": {},
   "outputs": [
    {
     "name": "stdout",
     "output_type": "stream",
     "text": [
      "<class 'pandas.core.frame.DataFrame'>\n",
      "RangeIndex: 216864 entries, 0 to 216863\n",
      "Data columns (total 9 columns):\n",
      " #   Column                  Non-Null Count   Dtype         \n",
      "---  ------                  --------------   -----         \n",
      " 0   Date                    216864 non-null  datetime64[ns]\n",
      " 1   membership_card_number  216864 non-null  object        \n",
      " 2   age                     216864 non-null  object        \n",
      " 3   region                  216864 non-null  object        \n",
      " 4   product_classification  216864 non-null  object        \n",
      " 5   product_code            216864 non-null  object        \n",
      " 6   quantity                216864 non-null  int64         \n",
      " 7   cost                    216864 non-null  int64         \n",
      " 8   sales                   216864 non-null  int64         \n",
      "dtypes: datetime64[ns](1), int64(3), object(5)\n",
      "memory usage: 14.9+ MB\n"
     ]
    }
   ],
   "source": [
    "df.info()"
   ]
  },
  {
   "cell_type": "code",
   "execution_count": null,
   "metadata": {},
   "outputs": [],
   "source": []
  },
  {
   "cell_type": "code",
   "execution_count": null,
   "metadata": {},
   "outputs": [],
   "source": []
  }
 ],
 "metadata": {
  "kernelspec": {
   "display_name": "Python 3 (ipykernel)",
   "language": "python",
   "name": "python3"
  },
  "language_info": {
   "codemirror_mode": {
    "name": "ipython",
    "version": 3
   },
   "file_extension": ".py",
   "mimetype": "text/x-python",
   "name": "python",
   "nbconvert_exporter": "python",
   "pygments_lexer": "ipython3",
   "version": "3.11.7"
  }
 },
 "nbformat": 4,
 "nbformat_minor": 4
}
