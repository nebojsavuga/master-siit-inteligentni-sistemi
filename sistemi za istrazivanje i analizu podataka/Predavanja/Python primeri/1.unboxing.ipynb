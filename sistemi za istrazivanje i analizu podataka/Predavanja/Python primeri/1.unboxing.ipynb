{
 "cells": [
  {
   "cell_type": "code",
   "execution_count": 3,
   "metadata": {},
   "outputs": [],
   "source": [
    "import pandas as pd"
   ]
  },
  {
   "cell_type": "code",
   "execution_count": 5,
   "metadata": {},
   "outputs": [
    {
     "ename": "UnicodeDecodeError",
     "evalue": "'utf-8' codec can't decode byte 0xa4 in position 0: invalid start byte",
     "output_type": "error",
     "traceback": [
      "\u001b[1;31m---------------------------------------------------------------------------\u001b[0m",
      "\u001b[1;31mUnicodeDecodeError\u001b[0m                        Traceback (most recent call last)",
      "Cell \u001b[1;32mIn[5], line 1\u001b[0m\n\u001b[1;32m----> 1\u001b[0m df \u001b[38;5;241m=\u001b[39m pd\u001b[38;5;241m.\u001b[39mread_csv(\u001b[38;5;124m'\u001b[39m\u001b[38;5;124mD01\u001b[39m\u001b[38;5;124m'\u001b[39m, delimiter\u001b[38;5;241m=\u001b[39m\u001b[38;5;124m'\u001b[39m\u001b[38;5;124m;\u001b[39m\u001b[38;5;124m'\u001b[39m)\n",
      "File \u001b[1;32m~\\anaconda3\\Lib\\site-packages\\pandas\\util\\_decorators.py:211\u001b[0m, in \u001b[0;36mdeprecate_kwarg.<locals>._deprecate_kwarg.<locals>.wrapper\u001b[1;34m(*args, **kwargs)\u001b[0m\n\u001b[0;32m    209\u001b[0m     \u001b[38;5;28;01melse\u001b[39;00m:\n\u001b[0;32m    210\u001b[0m         kwargs[new_arg_name] \u001b[38;5;241m=\u001b[39m new_arg_value\n\u001b[1;32m--> 211\u001b[0m \u001b[38;5;28;01mreturn\u001b[39;00m func(\u001b[38;5;241m*\u001b[39margs, \u001b[38;5;241m*\u001b[39m\u001b[38;5;241m*\u001b[39mkwargs)\n",
      "File \u001b[1;32m~\\anaconda3\\Lib\\site-packages\\pandas\\util\\_decorators.py:331\u001b[0m, in \u001b[0;36mdeprecate_nonkeyword_arguments.<locals>.decorate.<locals>.wrapper\u001b[1;34m(*args, **kwargs)\u001b[0m\n\u001b[0;32m    325\u001b[0m \u001b[38;5;28;01mif\u001b[39;00m \u001b[38;5;28mlen\u001b[39m(args) \u001b[38;5;241m>\u001b[39m num_allow_args:\n\u001b[0;32m    326\u001b[0m     warnings\u001b[38;5;241m.\u001b[39mwarn(\n\u001b[0;32m    327\u001b[0m         msg\u001b[38;5;241m.\u001b[39mformat(arguments\u001b[38;5;241m=\u001b[39m_format_argument_list(allow_args)),\n\u001b[0;32m    328\u001b[0m         \u001b[38;5;167;01mFutureWarning\u001b[39;00m,\n\u001b[0;32m    329\u001b[0m         stacklevel\u001b[38;5;241m=\u001b[39mfind_stack_level(),\n\u001b[0;32m    330\u001b[0m     )\n\u001b[1;32m--> 331\u001b[0m \u001b[38;5;28;01mreturn\u001b[39;00m func(\u001b[38;5;241m*\u001b[39margs, \u001b[38;5;241m*\u001b[39m\u001b[38;5;241m*\u001b[39mkwargs)\n",
      "File \u001b[1;32m~\\anaconda3\\Lib\\site-packages\\pandas\\io\\parsers\\readers.py:950\u001b[0m, in \u001b[0;36mread_csv\u001b[1;34m(filepath_or_buffer, sep, delimiter, header, names, index_col, usecols, squeeze, prefix, mangle_dupe_cols, dtype, engine, converters, true_values, false_values, skipinitialspace, skiprows, skipfooter, nrows, na_values, keep_default_na, na_filter, verbose, skip_blank_lines, parse_dates, infer_datetime_format, keep_date_col, date_parser, dayfirst, cache_dates, iterator, chunksize, compression, thousands, decimal, lineterminator, quotechar, quoting, doublequote, escapechar, comment, encoding, encoding_errors, dialect, error_bad_lines, warn_bad_lines, on_bad_lines, delim_whitespace, low_memory, memory_map, float_precision, storage_options)\u001b[0m\n\u001b[0;32m    935\u001b[0m kwds_defaults \u001b[38;5;241m=\u001b[39m _refine_defaults_read(\n\u001b[0;32m    936\u001b[0m     dialect,\n\u001b[0;32m    937\u001b[0m     delimiter,\n\u001b[1;32m   (...)\u001b[0m\n\u001b[0;32m    946\u001b[0m     defaults\u001b[38;5;241m=\u001b[39m{\u001b[38;5;124m\"\u001b[39m\u001b[38;5;124mdelimiter\u001b[39m\u001b[38;5;124m\"\u001b[39m: \u001b[38;5;124m\"\u001b[39m\u001b[38;5;124m,\u001b[39m\u001b[38;5;124m\"\u001b[39m},\n\u001b[0;32m    947\u001b[0m )\n\u001b[0;32m    948\u001b[0m kwds\u001b[38;5;241m.\u001b[39mupdate(kwds_defaults)\n\u001b[1;32m--> 950\u001b[0m \u001b[38;5;28;01mreturn\u001b[39;00m _read(filepath_or_buffer, kwds)\n",
      "File \u001b[1;32m~\\anaconda3\\Lib\\site-packages\\pandas\\io\\parsers\\readers.py:605\u001b[0m, in \u001b[0;36m_read\u001b[1;34m(filepath_or_buffer, kwds)\u001b[0m\n\u001b[0;32m    602\u001b[0m _validate_names(kwds\u001b[38;5;241m.\u001b[39mget(\u001b[38;5;124m\"\u001b[39m\u001b[38;5;124mnames\u001b[39m\u001b[38;5;124m\"\u001b[39m, \u001b[38;5;28;01mNone\u001b[39;00m))\n\u001b[0;32m    604\u001b[0m \u001b[38;5;66;03m# Create the parser.\u001b[39;00m\n\u001b[1;32m--> 605\u001b[0m parser \u001b[38;5;241m=\u001b[39m TextFileReader(filepath_or_buffer, \u001b[38;5;241m*\u001b[39m\u001b[38;5;241m*\u001b[39mkwds)\n\u001b[0;32m    607\u001b[0m \u001b[38;5;28;01mif\u001b[39;00m chunksize \u001b[38;5;129;01mor\u001b[39;00m iterator:\n\u001b[0;32m    608\u001b[0m     \u001b[38;5;28;01mreturn\u001b[39;00m parser\n",
      "File \u001b[1;32m~\\anaconda3\\Lib\\site-packages\\pandas\\io\\parsers\\readers.py:1442\u001b[0m, in \u001b[0;36mTextFileReader.__init__\u001b[1;34m(self, f, engine, **kwds)\u001b[0m\n\u001b[0;32m   1439\u001b[0m     \u001b[38;5;28mself\u001b[39m\u001b[38;5;241m.\u001b[39moptions[\u001b[38;5;124m\"\u001b[39m\u001b[38;5;124mhas_index_names\u001b[39m\u001b[38;5;124m\"\u001b[39m] \u001b[38;5;241m=\u001b[39m kwds[\u001b[38;5;124m\"\u001b[39m\u001b[38;5;124mhas_index_names\u001b[39m\u001b[38;5;124m\"\u001b[39m]\n\u001b[0;32m   1441\u001b[0m \u001b[38;5;28mself\u001b[39m\u001b[38;5;241m.\u001b[39mhandles: IOHandles \u001b[38;5;241m|\u001b[39m \u001b[38;5;28;01mNone\u001b[39;00m \u001b[38;5;241m=\u001b[39m \u001b[38;5;28;01mNone\u001b[39;00m\n\u001b[1;32m-> 1442\u001b[0m \u001b[38;5;28mself\u001b[39m\u001b[38;5;241m.\u001b[39m_engine \u001b[38;5;241m=\u001b[39m \u001b[38;5;28mself\u001b[39m\u001b[38;5;241m.\u001b[39m_make_engine(f, \u001b[38;5;28mself\u001b[39m\u001b[38;5;241m.\u001b[39mengine)\n",
      "File \u001b[1;32m~\\anaconda3\\Lib\\site-packages\\pandas\\io\\parsers\\readers.py:1753\u001b[0m, in \u001b[0;36mTextFileReader._make_engine\u001b[1;34m(self, f, engine)\u001b[0m\n\u001b[0;32m   1750\u001b[0m     \u001b[38;5;28;01mraise\u001b[39;00m \u001b[38;5;167;01mValueError\u001b[39;00m(msg)\n\u001b[0;32m   1752\u001b[0m \u001b[38;5;28;01mtry\u001b[39;00m:\n\u001b[1;32m-> 1753\u001b[0m     \u001b[38;5;28;01mreturn\u001b[39;00m mapping[engine](f, \u001b[38;5;241m*\u001b[39m\u001b[38;5;241m*\u001b[39m\u001b[38;5;28mself\u001b[39m\u001b[38;5;241m.\u001b[39moptions)\n\u001b[0;32m   1754\u001b[0m \u001b[38;5;28;01mexcept\u001b[39;00m \u001b[38;5;167;01mException\u001b[39;00m:\n\u001b[0;32m   1755\u001b[0m     \u001b[38;5;28;01mif\u001b[39;00m \u001b[38;5;28mself\u001b[39m\u001b[38;5;241m.\u001b[39mhandles \u001b[38;5;129;01mis\u001b[39;00m \u001b[38;5;129;01mnot\u001b[39;00m \u001b[38;5;28;01mNone\u001b[39;00m:\n",
      "File \u001b[1;32m~\\anaconda3\\Lib\\site-packages\\pandas\\io\\parsers\\c_parser_wrapper.py:79\u001b[0m, in \u001b[0;36mCParserWrapper.__init__\u001b[1;34m(self, src, **kwds)\u001b[0m\n\u001b[0;32m     76\u001b[0m     kwds\u001b[38;5;241m.\u001b[39mpop(key, \u001b[38;5;28;01mNone\u001b[39;00m)\n\u001b[0;32m     78\u001b[0m kwds[\u001b[38;5;124m\"\u001b[39m\u001b[38;5;124mdtype\u001b[39m\u001b[38;5;124m\"\u001b[39m] \u001b[38;5;241m=\u001b[39m ensure_dtype_objs(kwds\u001b[38;5;241m.\u001b[39mget(\u001b[38;5;124m\"\u001b[39m\u001b[38;5;124mdtype\u001b[39m\u001b[38;5;124m\"\u001b[39m, \u001b[38;5;28;01mNone\u001b[39;00m))\n\u001b[1;32m---> 79\u001b[0m \u001b[38;5;28mself\u001b[39m\u001b[38;5;241m.\u001b[39m_reader \u001b[38;5;241m=\u001b[39m parsers\u001b[38;5;241m.\u001b[39mTextReader(src, \u001b[38;5;241m*\u001b[39m\u001b[38;5;241m*\u001b[39mkwds)\n\u001b[0;32m     81\u001b[0m \u001b[38;5;28mself\u001b[39m\u001b[38;5;241m.\u001b[39munnamed_cols \u001b[38;5;241m=\u001b[39m \u001b[38;5;28mself\u001b[39m\u001b[38;5;241m.\u001b[39m_reader\u001b[38;5;241m.\u001b[39munnamed_cols\n\u001b[0;32m     83\u001b[0m \u001b[38;5;66;03m# error: Cannot determine type of 'names'\u001b[39;00m\n",
      "File \u001b[1;32m~\\anaconda3\\Lib\\site-packages\\pandas\\_libs\\parsers.pyx:547\u001b[0m, in \u001b[0;36mpandas._libs.parsers.TextReader.__cinit__\u001b[1;34m()\u001b[0m\n",
      "File \u001b[1;32m~\\anaconda3\\Lib\\site-packages\\pandas\\_libs\\parsers.pyx:636\u001b[0m, in \u001b[0;36mpandas._libs.parsers.TextReader._get_header\u001b[1;34m()\u001b[0m\n",
      "File \u001b[1;32m~\\anaconda3\\Lib\\site-packages\\pandas\\_libs\\parsers.pyx:852\u001b[0m, in \u001b[0;36mpandas._libs.parsers.TextReader._tokenize_rows\u001b[1;34m()\u001b[0m\n",
      "File \u001b[1;32m~\\anaconda3\\Lib\\site-packages\\pandas\\_libs\\parsers.pyx:1965\u001b[0m, in \u001b[0;36mpandas._libs.parsers.raise_parser_error\u001b[1;34m()\u001b[0m\n",
      "\u001b[1;31mUnicodeDecodeError\u001b[0m: 'utf-8' codec can't decode byte 0xa4 in position 0: invalid start byte"
     ]
    }
   ],
   "source": [
    "df = pd.read_csv('D01', delimiter=';')"
   ]
  },
  {
   "cell_type": "markdown",
   "metadata": {},
   "source": [
    "#### Instaliramo chardet da bi saznali encoding csv fajla.\n",
    "#### pip install chardet ###"
   ]
  },
  {
   "cell_type": "markdown",
   "metadata": {},
   "source": [
    "#### Koristimo chardet: python chardetect-script.py D01\n",
    "#### Rezultat: D01: Big5 with confidence 0.99"
   ]
  },
  {
   "cell_type": "code",
   "execution_count": 20,
   "metadata": {},
   "outputs": [],
   "source": [
    "df = pd.read_csv('D01', delimiter=';', encoding = \"Big5\")"
   ]
  },
  {
   "cell_type": "code",
   "execution_count": 22,
   "metadata": {},
   "outputs": [
    {
     "data": {
      "text/html": [
       "<div>\n",
       "<style scoped>\n",
       "    .dataframe tbody tr th:only-of-type {\n",
       "        vertical-align: middle;\n",
       "    }\n",
       "\n",
       "    .dataframe tbody tr th {\n",
       "        vertical-align: top;\n",
       "    }\n",
       "\n",
       "    .dataframe thead th {\n",
       "        text-align: right;\n",
       "    }\n",
       "</style>\n",
       "<table border=\"1\" class=\"dataframe\">\n",
       "  <thead>\n",
       "    <tr style=\"text-align: right;\">\n",
       "      <th></th>\n",
       "      <th>日期</th>\n",
       "      <th>會員卡號</th>\n",
       "      <th>年齡</th>\n",
       "      <th>區域</th>\n",
       "      <th>商品分類</th>\n",
       "      <th>商品編碼</th>\n",
       "      <th>數量</th>\n",
       "      <th>成本</th>\n",
       "      <th>銷售</th>\n",
       "    </tr>\n",
       "  </thead>\n",
       "  <tbody>\n",
       "    <tr>\n",
       "      <th>0</th>\n",
       "      <td>2001-01-01 00:00:00</td>\n",
       "      <td>141833</td>\n",
       "      <td>F</td>\n",
       "      <td>F</td>\n",
       "      <td>130207</td>\n",
       "      <td>4710105011011</td>\n",
       "      <td>2</td>\n",
       "      <td>44</td>\n",
       "      <td>52</td>\n",
       "    </tr>\n",
       "    <tr>\n",
       "      <th>1</th>\n",
       "      <td>2001-01-01 00:00:00</td>\n",
       "      <td>1376753</td>\n",
       "      <td>E</td>\n",
       "      <td>E</td>\n",
       "      <td>110217</td>\n",
       "      <td>4710265849066</td>\n",
       "      <td>1</td>\n",
       "      <td>150</td>\n",
       "      <td>129</td>\n",
       "    </tr>\n",
       "    <tr>\n",
       "      <th>2</th>\n",
       "      <td>2001-01-01 00:00:00</td>\n",
       "      <td>1603071</td>\n",
       "      <td>E</td>\n",
       "      <td>G</td>\n",
       "      <td>100201</td>\n",
       "      <td>4712019100607</td>\n",
       "      <td>1</td>\n",
       "      <td>35</td>\n",
       "      <td>39</td>\n",
       "    </tr>\n",
       "    <tr>\n",
       "      <th>3</th>\n",
       "      <td>2001-01-01 00:00:00</td>\n",
       "      <td>1738667</td>\n",
       "      <td>E</td>\n",
       "      <td>F</td>\n",
       "      <td>530105</td>\n",
       "      <td>4710168702901</td>\n",
       "      <td>1</td>\n",
       "      <td>94</td>\n",
       "      <td>119</td>\n",
       "    </tr>\n",
       "    <tr>\n",
       "      <th>4</th>\n",
       "      <td>2001-01-01 00:00:00</td>\n",
       "      <td>2141497</td>\n",
       "      <td>A</td>\n",
       "      <td>B</td>\n",
       "      <td>320407</td>\n",
       "      <td>4710431339148</td>\n",
       "      <td>1</td>\n",
       "      <td>100</td>\n",
       "      <td>159</td>\n",
       "    </tr>\n",
       "  </tbody>\n",
       "</table>\n",
       "</div>"
      ],
      "text/plain": [
       "                    日期     會員卡號  年齡  區域    商品分類           商品編碼  數量   成本   銷售\n",
       "0  2001-01-01 00:00:00   141833  F   F   130207  4710105011011   2   44   52\n",
       "1  2001-01-01 00:00:00  1376753  E   E   110217  4710265849066   1  150  129\n",
       "2  2001-01-01 00:00:00  1603071  E   G   100201  4712019100607   1   35   39\n",
       "3  2001-01-01 00:00:00  1738667  E   F   530105  4710168702901   1   94  119\n",
       "4  2001-01-01 00:00:00  2141497  A   B   320407  4710431339148   1  100  159"
      ]
     },
     "execution_count": 22,
     "metadata": {},
     "output_type": "execute_result"
    }
   ],
   "source": [
    "df.head()"
   ]
  },
  {
   "cell_type": "markdown",
   "metadata": {},
   "source": [
    "#### Pomoću Google translate prevodimo nazive kolona. Možemo ih preimenovati u kodu, a možemo i da izmenimo csv fajl."
   ]
  },
  {
   "cell_type": "code",
   "execution_count": 25,
   "metadata": {},
   "outputs": [
    {
     "data": {
      "text/html": [
       "<div>\n",
       "<style scoped>\n",
       "    .dataframe tbody tr th:only-of-type {\n",
       "        vertical-align: middle;\n",
       "    }\n",
       "\n",
       "    .dataframe tbody tr th {\n",
       "        vertical-align: top;\n",
       "    }\n",
       "\n",
       "    .dataframe thead th {\n",
       "        text-align: right;\n",
       "    }\n",
       "</style>\n",
       "<table border=\"1\" class=\"dataframe\">\n",
       "  <thead>\n",
       "    <tr style=\"text-align: right;\">\n",
       "      <th></th>\n",
       "      <th>Date</th>\n",
       "      <th>會員卡號</th>\n",
       "      <th>年齡</th>\n",
       "      <th>區域</th>\n",
       "      <th>商品分類</th>\n",
       "      <th>商品編碼</th>\n",
       "      <th>數量</th>\n",
       "      <th>成本</th>\n",
       "      <th>銷售</th>\n",
       "    </tr>\n",
       "  </thead>\n",
       "  <tbody>\n",
       "    <tr>\n",
       "      <th>0</th>\n",
       "      <td>2001-01-01 00:00:00</td>\n",
       "      <td>141833</td>\n",
       "      <td>F</td>\n",
       "      <td>F</td>\n",
       "      <td>130207</td>\n",
       "      <td>4710105011011</td>\n",
       "      <td>2</td>\n",
       "      <td>44</td>\n",
       "      <td>52</td>\n",
       "    </tr>\n",
       "    <tr>\n",
       "      <th>1</th>\n",
       "      <td>2001-01-01 00:00:00</td>\n",
       "      <td>1376753</td>\n",
       "      <td>E</td>\n",
       "      <td>E</td>\n",
       "      <td>110217</td>\n",
       "      <td>4710265849066</td>\n",
       "      <td>1</td>\n",
       "      <td>150</td>\n",
       "      <td>129</td>\n",
       "    </tr>\n",
       "    <tr>\n",
       "      <th>2</th>\n",
       "      <td>2001-01-01 00:00:00</td>\n",
       "      <td>1603071</td>\n",
       "      <td>E</td>\n",
       "      <td>G</td>\n",
       "      <td>100201</td>\n",
       "      <td>4712019100607</td>\n",
       "      <td>1</td>\n",
       "      <td>35</td>\n",
       "      <td>39</td>\n",
       "    </tr>\n",
       "    <tr>\n",
       "      <th>3</th>\n",
       "      <td>2001-01-01 00:00:00</td>\n",
       "      <td>1738667</td>\n",
       "      <td>E</td>\n",
       "      <td>F</td>\n",
       "      <td>530105</td>\n",
       "      <td>4710168702901</td>\n",
       "      <td>1</td>\n",
       "      <td>94</td>\n",
       "      <td>119</td>\n",
       "    </tr>\n",
       "    <tr>\n",
       "      <th>4</th>\n",
       "      <td>2001-01-01 00:00:00</td>\n",
       "      <td>2141497</td>\n",
       "      <td>A</td>\n",
       "      <td>B</td>\n",
       "      <td>320407</td>\n",
       "      <td>4710431339148</td>\n",
       "      <td>1</td>\n",
       "      <td>100</td>\n",
       "      <td>159</td>\n",
       "    </tr>\n",
       "  </tbody>\n",
       "</table>\n",
       "</div>"
      ],
      "text/plain": [
       "                  Date     會員卡號  年齡  區域    商品分類           商品編碼  數量   成本   銷售\n",
       "0  2001-01-01 00:00:00   141833  F   F   130207  4710105011011   2   44   52\n",
       "1  2001-01-01 00:00:00  1376753  E   E   110217  4710265849066   1  150  129\n",
       "2  2001-01-01 00:00:00  1603071  E   G   100201  4712019100607   1   35   39\n",
       "3  2001-01-01 00:00:00  1738667  E   F   530105  4710168702901   1   94  119\n",
       "4  2001-01-01 00:00:00  2141497  A   B   320407  4710431339148   1  100  159"
      ]
     },
     "execution_count": 25,
     "metadata": {},
     "output_type": "execute_result"
    }
   ],
   "source": [
    "df.rename(columns={'日期':'Date'}, inplace = True)\n",
    "df.head()"
   ]
  },
  {
   "cell_type": "code",
   "execution_count": 27,
   "metadata": {},
   "outputs": [],
   "source": [
    "df.rename(columns={'日期':'Date','會員卡號':'membership_card_number',\n",
    "                   '年齡':'age','區域':'region','商品分類':'product_classification',\n",
    "                   '商品編碼':'product_code','數量':'quantity',\n",
    "                   '成本':'cost','銷售':'sales'}, inplace = True)"
   ]
  },
  {
   "cell_type": "markdown",
   "metadata": {},
   "source": [
    "#### Preimenovali smo kolone u kodu, flag inplace znači da direktno menjamo DataFrame, inače bi nam samo bila prikazana promena, a DataFrame bi ostao nepromenjen."
   ]
  },
  {
   "cell_type": "code",
   "execution_count": 30,
   "metadata": {},
   "outputs": [
    {
     "data": {
      "text/html": [
       "<div>\n",
       "<style scoped>\n",
       "    .dataframe tbody tr th:only-of-type {\n",
       "        vertical-align: middle;\n",
       "    }\n",
       "\n",
       "    .dataframe tbody tr th {\n",
       "        vertical-align: top;\n",
       "    }\n",
       "\n",
       "    .dataframe thead th {\n",
       "        text-align: right;\n",
       "    }\n",
       "</style>\n",
       "<table border=\"1\" class=\"dataframe\">\n",
       "  <thead>\n",
       "    <tr style=\"text-align: right;\">\n",
       "      <th></th>\n",
       "      <th>Date</th>\n",
       "      <th>membership_card_number</th>\n",
       "      <th>age</th>\n",
       "      <th>region</th>\n",
       "      <th>product_classification</th>\n",
       "      <th>product_code</th>\n",
       "      <th>quantity</th>\n",
       "      <th>cost</th>\n",
       "      <th>sales</th>\n",
       "    </tr>\n",
       "  </thead>\n",
       "  <tbody>\n",
       "    <tr>\n",
       "      <th>0</th>\n",
       "      <td>2001-01-01 00:00:00</td>\n",
       "      <td>141833</td>\n",
       "      <td>F</td>\n",
       "      <td>F</td>\n",
       "      <td>130207</td>\n",
       "      <td>4710105011011</td>\n",
       "      <td>2</td>\n",
       "      <td>44</td>\n",
       "      <td>52</td>\n",
       "    </tr>\n",
       "    <tr>\n",
       "      <th>1</th>\n",
       "      <td>2001-01-01 00:00:00</td>\n",
       "      <td>1376753</td>\n",
       "      <td>E</td>\n",
       "      <td>E</td>\n",
       "      <td>110217</td>\n",
       "      <td>4710265849066</td>\n",
       "      <td>1</td>\n",
       "      <td>150</td>\n",
       "      <td>129</td>\n",
       "    </tr>\n",
       "    <tr>\n",
       "      <th>2</th>\n",
       "      <td>2001-01-01 00:00:00</td>\n",
       "      <td>1603071</td>\n",
       "      <td>E</td>\n",
       "      <td>G</td>\n",
       "      <td>100201</td>\n",
       "      <td>4712019100607</td>\n",
       "      <td>1</td>\n",
       "      <td>35</td>\n",
       "      <td>39</td>\n",
       "    </tr>\n",
       "    <tr>\n",
       "      <th>3</th>\n",
       "      <td>2001-01-01 00:00:00</td>\n",
       "      <td>1738667</td>\n",
       "      <td>E</td>\n",
       "      <td>F</td>\n",
       "      <td>530105</td>\n",
       "      <td>4710168702901</td>\n",
       "      <td>1</td>\n",
       "      <td>94</td>\n",
       "      <td>119</td>\n",
       "    </tr>\n",
       "    <tr>\n",
       "      <th>4</th>\n",
       "      <td>2001-01-01 00:00:00</td>\n",
       "      <td>2141497</td>\n",
       "      <td>A</td>\n",
       "      <td>B</td>\n",
       "      <td>320407</td>\n",
       "      <td>4710431339148</td>\n",
       "      <td>1</td>\n",
       "      <td>100</td>\n",
       "      <td>159</td>\n",
       "    </tr>\n",
       "  </tbody>\n",
       "</table>\n",
       "</div>"
      ],
      "text/plain": [
       "                  Date  membership_card_number age region  \\\n",
       "0  2001-01-01 00:00:00                  141833  F      F    \n",
       "1  2001-01-01 00:00:00                 1376753  E      E    \n",
       "2  2001-01-01 00:00:00                 1603071  E      G    \n",
       "3  2001-01-01 00:00:00                 1738667  E      F    \n",
       "4  2001-01-01 00:00:00                 2141497  A      B    \n",
       "\n",
       "   product_classification   product_code  quantity  cost  sales  \n",
       "0                  130207  4710105011011         2    44     52  \n",
       "1                  110217  4710265849066         1   150    129  \n",
       "2                  100201  4712019100607         1    35     39  \n",
       "3                  530105  4710168702901         1    94    119  \n",
       "4                  320407  4710431339148         1   100    159  "
      ]
     },
     "execution_count": 30,
     "metadata": {},
     "output_type": "execute_result"
    }
   ],
   "source": [
    "df.head()"
   ]
  },
  {
   "cell_type": "code",
   "execution_count": 32,
   "metadata": {},
   "outputs": [
    {
     "name": "stdout",
     "output_type": "stream",
     "text": [
      "<class 'pandas.core.frame.DataFrame'>\n",
      "RangeIndex: 216864 entries, 0 to 216863\n",
      "Data columns (total 9 columns):\n",
      " #   Column                  Non-Null Count   Dtype \n",
      "---  ------                  --------------   ----- \n",
      " 0   Date                    216864 non-null  object\n",
      " 1   membership_card_number  216864 non-null  int64 \n",
      " 2   age                     216864 non-null  object\n",
      " 3   region                  216864 non-null  object\n",
      " 4   product_classification  216864 non-null  int64 \n",
      " 5   product_code            216864 non-null  int64 \n",
      " 6   quantity                216864 non-null  int64 \n",
      " 7   cost                    216864 non-null  int64 \n",
      " 8   sales                   216864 non-null  int64 \n",
      "dtypes: int64(6), object(3)\n",
      "memory usage: 14.9+ MB\n"
     ]
    }
   ],
   "source": [
    "df.info()"
   ]
  },
  {
   "cell_type": "code",
   "execution_count": 39,
   "metadata": {},
   "outputs": [],
   "source": [
    "df.to_csv('D01_eng_cols.csv', sep=';')"
   ]
  },
  {
   "cell_type": "markdown",
   "metadata": {},
   "source": [
    "#### Razdvajamo vrednosti atributa Date po razmaku (space) da bi izdvojili vreme iz datuma."
   ]
  },
  {
   "cell_type": "code",
   "execution_count": 42,
   "metadata": {},
   "outputs": [
    {
     "data": {
      "text/plain": [
       "0         00:00:00\n",
       "1         00:00:00\n",
       "2         00:00:00\n",
       "3         00:00:00\n",
       "4         00:00:00\n",
       "            ...   \n",
       "216859    00:00:00\n",
       "216860    00:00:00\n",
       "216861    00:00:00\n",
       "216862    00:00:00\n",
       "216863    00:00:00\n",
       "Name: Date, Length: 216864, dtype: object"
      ]
     },
     "execution_count": 42,
     "metadata": {},
     "output_type": "execute_result"
    }
   ],
   "source": [
    "df['Date'].apply(lambda x: x.split(' ')[1])"
   ]
  },
  {
   "cell_type": "code",
   "execution_count": 44,
   "metadata": {},
   "outputs": [
    {
     "data": {
      "text/plain": [
       "pandas.core.series.Series"
      ]
     },
     "execution_count": 44,
     "metadata": {},
     "output_type": "execute_result"
    }
   ],
   "source": [
    "type(df['Date'].apply(lambda x: x.split(' ')[1]))"
   ]
  },
  {
   "cell_type": "markdown",
   "metadata": {},
   "source": [
    "#### Vidimo da je vreme beskorisno i zato ga uklanjamo i ostavljamo samo datum."
   ]
  },
  {
   "cell_type": "code",
   "execution_count": 47,
   "metadata": {},
   "outputs": [
    {
     "data": {
      "text/html": [
       "<div>\n",
       "<style scoped>\n",
       "    .dataframe tbody tr th:only-of-type {\n",
       "        vertical-align: middle;\n",
       "    }\n",
       "\n",
       "    .dataframe tbody tr th {\n",
       "        vertical-align: top;\n",
       "    }\n",
       "\n",
       "    .dataframe thead th {\n",
       "        text-align: right;\n",
       "    }\n",
       "</style>\n",
       "<table border=\"1\" class=\"dataframe\">\n",
       "  <thead>\n",
       "    <tr style=\"text-align: right;\">\n",
       "      <th></th>\n",
       "      <th>Date</th>\n",
       "      <th>membership_card_number</th>\n",
       "      <th>age</th>\n",
       "      <th>region</th>\n",
       "      <th>product_classification</th>\n",
       "      <th>product_code</th>\n",
       "      <th>quantity</th>\n",
       "      <th>cost</th>\n",
       "      <th>sales</th>\n",
       "    </tr>\n",
       "  </thead>\n",
       "  <tbody>\n",
       "    <tr>\n",
       "      <th>0</th>\n",
       "      <td>2001-01-01</td>\n",
       "      <td>141833</td>\n",
       "      <td>F</td>\n",
       "      <td>F</td>\n",
       "      <td>130207</td>\n",
       "      <td>4710105011011</td>\n",
       "      <td>2</td>\n",
       "      <td>44</td>\n",
       "      <td>52</td>\n",
       "    </tr>\n",
       "    <tr>\n",
       "      <th>1</th>\n",
       "      <td>2001-01-01</td>\n",
       "      <td>1376753</td>\n",
       "      <td>E</td>\n",
       "      <td>E</td>\n",
       "      <td>110217</td>\n",
       "      <td>4710265849066</td>\n",
       "      <td>1</td>\n",
       "      <td>150</td>\n",
       "      <td>129</td>\n",
       "    </tr>\n",
       "    <tr>\n",
       "      <th>2</th>\n",
       "      <td>2001-01-01</td>\n",
       "      <td>1603071</td>\n",
       "      <td>E</td>\n",
       "      <td>G</td>\n",
       "      <td>100201</td>\n",
       "      <td>4712019100607</td>\n",
       "      <td>1</td>\n",
       "      <td>35</td>\n",
       "      <td>39</td>\n",
       "    </tr>\n",
       "    <tr>\n",
       "      <th>3</th>\n",
       "      <td>2001-01-01</td>\n",
       "      <td>1738667</td>\n",
       "      <td>E</td>\n",
       "      <td>F</td>\n",
       "      <td>530105</td>\n",
       "      <td>4710168702901</td>\n",
       "      <td>1</td>\n",
       "      <td>94</td>\n",
       "      <td>119</td>\n",
       "    </tr>\n",
       "    <tr>\n",
       "      <th>4</th>\n",
       "      <td>2001-01-01</td>\n",
       "      <td>2141497</td>\n",
       "      <td>A</td>\n",
       "      <td>B</td>\n",
       "      <td>320407</td>\n",
       "      <td>4710431339148</td>\n",
       "      <td>1</td>\n",
       "      <td>100</td>\n",
       "      <td>159</td>\n",
       "    </tr>\n",
       "  </tbody>\n",
       "</table>\n",
       "</div>"
      ],
      "text/plain": [
       "         Date  membership_card_number age region  product_classification  \\\n",
       "0  2001-01-01                  141833  F      F                   130207   \n",
       "1  2001-01-01                 1376753  E      E                   110217   \n",
       "2  2001-01-01                 1603071  E      G                   100201   \n",
       "3  2001-01-01                 1738667  E      F                   530105   \n",
       "4  2001-01-01                 2141497  A      B                   320407   \n",
       "\n",
       "    product_code  quantity  cost  sales  \n",
       "0  4710105011011         2    44     52  \n",
       "1  4710265849066         1   150    129  \n",
       "2  4712019100607         1    35     39  \n",
       "3  4710168702901         1    94    119  \n",
       "4  4710431339148         1   100    159  "
      ]
     },
     "execution_count": 47,
     "metadata": {},
     "output_type": "execute_result"
    }
   ],
   "source": [
    "df['Date'] = df['Date'].apply(lambda x: x.split(' ')[0])\n",
    "df.head()"
   ]
  },
  {
   "cell_type": "markdown",
   "metadata": {},
   "source": [
    "### Tipovi podataka ###"
   ]
  },
  {
   "cell_type": "code",
   "execution_count": 50,
   "metadata": {},
   "outputs": [
    {
     "name": "stdout",
     "output_type": "stream",
     "text": [
      "<class 'pandas.core.frame.DataFrame'>\n",
      "RangeIndex: 216864 entries, 0 to 216863\n",
      "Data columns (total 9 columns):\n",
      " #   Column                  Non-Null Count   Dtype \n",
      "---  ------                  --------------   ----- \n",
      " 0   Date                    216864 non-null  object\n",
      " 1   membership_card_number  216864 non-null  int64 \n",
      " 2   age                     216864 non-null  object\n",
      " 3   region                  216864 non-null  object\n",
      " 4   product_classification  216864 non-null  int64 \n",
      " 5   product_code            216864 non-null  int64 \n",
      " 6   quantity                216864 non-null  int64 \n",
      " 7   cost                    216864 non-null  int64 \n",
      " 8   sales                   216864 non-null  int64 \n",
      "dtypes: int64(6), object(3)\n",
      "memory usage: 14.9+ MB\n"
     ]
    }
   ],
   "source": [
    "df.info()"
   ]
  },
  {
   "cell_type": "markdown",
   "metadata": {},
   "source": [
    "#### Bilo bi dobro da tipove podataka odredimo tako da nam budu od koristi u kasnijoj analizi. Na primer Date bi trebalo da konvertujemo u DateTime, mebership_card_number je verovatno string jer je to u suštini id mušterije, age i region su stringovi itd."
   ]
  },
  {
   "cell_type": "code",
   "execution_count": 53,
   "metadata": {},
   "outputs": [
    {
     "data": {
      "text/html": [
       "<div>\n",
       "<style scoped>\n",
       "    .dataframe tbody tr th:only-of-type {\n",
       "        vertical-align: middle;\n",
       "    }\n",
       "\n",
       "    .dataframe tbody tr th {\n",
       "        vertical-align: top;\n",
       "    }\n",
       "\n",
       "    .dataframe thead th {\n",
       "        text-align: right;\n",
       "    }\n",
       "</style>\n",
       "<table border=\"1\" class=\"dataframe\">\n",
       "  <thead>\n",
       "    <tr style=\"text-align: right;\">\n",
       "      <th></th>\n",
       "      <th>Date</th>\n",
       "      <th>membership_card_number</th>\n",
       "      <th>age</th>\n",
       "      <th>region</th>\n",
       "      <th>product_classification</th>\n",
       "      <th>product_code</th>\n",
       "      <th>quantity</th>\n",
       "      <th>cost</th>\n",
       "      <th>sales</th>\n",
       "    </tr>\n",
       "  </thead>\n",
       "  <tbody>\n",
       "    <tr>\n",
       "      <th>0</th>\n",
       "      <td>2001-01-01</td>\n",
       "      <td>141833</td>\n",
       "      <td>F</td>\n",
       "      <td>F</td>\n",
       "      <td>130207</td>\n",
       "      <td>4710105011011</td>\n",
       "      <td>2</td>\n",
       "      <td>44</td>\n",
       "      <td>52</td>\n",
       "    </tr>\n",
       "    <tr>\n",
       "      <th>1</th>\n",
       "      <td>2001-01-01</td>\n",
       "      <td>1376753</td>\n",
       "      <td>E</td>\n",
       "      <td>E</td>\n",
       "      <td>110217</td>\n",
       "      <td>4710265849066</td>\n",
       "      <td>1</td>\n",
       "      <td>150</td>\n",
       "      <td>129</td>\n",
       "    </tr>\n",
       "    <tr>\n",
       "      <th>2</th>\n",
       "      <td>2001-01-01</td>\n",
       "      <td>1603071</td>\n",
       "      <td>E</td>\n",
       "      <td>G</td>\n",
       "      <td>100201</td>\n",
       "      <td>4712019100607</td>\n",
       "      <td>1</td>\n",
       "      <td>35</td>\n",
       "      <td>39</td>\n",
       "    </tr>\n",
       "    <tr>\n",
       "      <th>3</th>\n",
       "      <td>2001-01-01</td>\n",
       "      <td>1738667</td>\n",
       "      <td>E</td>\n",
       "      <td>F</td>\n",
       "      <td>530105</td>\n",
       "      <td>4710168702901</td>\n",
       "      <td>1</td>\n",
       "      <td>94</td>\n",
       "      <td>119</td>\n",
       "    </tr>\n",
       "    <tr>\n",
       "      <th>4</th>\n",
       "      <td>2001-01-01</td>\n",
       "      <td>2141497</td>\n",
       "      <td>A</td>\n",
       "      <td>B</td>\n",
       "      <td>320407</td>\n",
       "      <td>4710431339148</td>\n",
       "      <td>1</td>\n",
       "      <td>100</td>\n",
       "      <td>159</td>\n",
       "    </tr>\n",
       "  </tbody>\n",
       "</table>\n",
       "</div>"
      ],
      "text/plain": [
       "        Date  membership_card_number age region  product_classification  \\\n",
       "0 2001-01-01                  141833  F      F                   130207   \n",
       "1 2001-01-01                 1376753  E      E                   110217   \n",
       "2 2001-01-01                 1603071  E      G                   100201   \n",
       "3 2001-01-01                 1738667  E      F                   530105   \n",
       "4 2001-01-01                 2141497  A      B                   320407   \n",
       "\n",
       "    product_code  quantity  cost  sales  \n",
       "0  4710105011011         2    44     52  \n",
       "1  4710265849066         1   150    129  \n",
       "2  4712019100607         1    35     39  \n",
       "3  4710168702901         1    94    119  \n",
       "4  4710431339148         1   100    159  "
      ]
     },
     "execution_count": 53,
     "metadata": {},
     "output_type": "execute_result"
    }
   ],
   "source": [
    "df['Date'] = pd.to_datetime(df['Date'])\n",
    "df.head()"
   ]
  },
  {
   "cell_type": "code",
   "execution_count": 55,
   "metadata": {},
   "outputs": [
    {
     "name": "stdout",
     "output_type": "stream",
     "text": [
      "<class 'pandas.core.frame.DataFrame'>\n",
      "RangeIndex: 216864 entries, 0 to 216863\n",
      "Data columns (total 9 columns):\n",
      " #   Column                  Non-Null Count   Dtype         \n",
      "---  ------                  --------------   -----         \n",
      " 0   Date                    216864 non-null  datetime64[ns]\n",
      " 1   membership_card_number  216864 non-null  int64         \n",
      " 2   age                     216864 non-null  object        \n",
      " 3   region                  216864 non-null  object        \n",
      " 4   product_classification  216864 non-null  int64         \n",
      " 5   product_code            216864 non-null  int64         \n",
      " 6   quantity                216864 non-null  int64         \n",
      " 7   cost                    216864 non-null  int64         \n",
      " 8   sales                   216864 non-null  int64         \n",
      "dtypes: datetime64[ns](1), int64(6), object(2)\n",
      "memory usage: 14.9+ MB\n"
     ]
    }
   ],
   "source": [
    "df.info()"
   ]
  },
  {
   "cell_type": "code",
   "execution_count": 57,
   "metadata": {},
   "outputs": [
    {
     "data": {
      "text/plain": [
       "0          1\n",
       "1          1\n",
       "2          1\n",
       "3          1\n",
       "4          1\n",
       "          ..\n",
       "216859    31\n",
       "216860    31\n",
       "216861    31\n",
       "216862    31\n",
       "216863    31\n",
       "Name: Date, Length: 216864, dtype: int64"
      ]
     },
     "execution_count": 57,
     "metadata": {},
     "output_type": "execute_result"
    }
   ],
   "source": [
    "df['Date'].dt.day"
   ]
  },
  {
   "cell_type": "code",
   "execution_count": 59,
   "metadata": {},
   "outputs": [],
   "source": [
    "df['membership_card_number'] = df['membership_card_number'].astype(str)"
   ]
  },
  {
   "cell_type": "code",
   "execution_count": 61,
   "metadata": {},
   "outputs": [
    {
     "name": "stdout",
     "output_type": "stream",
     "text": [
      "<class 'pandas.core.frame.DataFrame'>\n",
      "RangeIndex: 216864 entries, 0 to 216863\n",
      "Data columns (total 9 columns):\n",
      " #   Column                  Non-Null Count   Dtype         \n",
      "---  ------                  --------------   -----         \n",
      " 0   Date                    216864 non-null  datetime64[ns]\n",
      " 1   membership_card_number  216864 non-null  object        \n",
      " 2   age                     216864 non-null  object        \n",
      " 3   region                  216864 non-null  object        \n",
      " 4   product_classification  216864 non-null  int64         \n",
      " 5   product_code            216864 non-null  int64         \n",
      " 6   quantity                216864 non-null  int64         \n",
      " 7   cost                    216864 non-null  int64         \n",
      " 8   sales                   216864 non-null  int64         \n",
      "dtypes: datetime64[ns](1), int64(5), object(3)\n",
      "memory usage: 14.9+ MB\n"
     ]
    }
   ],
   "source": [
    "df.info()\n",
    "#stringovi se prikazuju kao tip object"
   ]
  },
  {
   "cell_type": "code",
   "execution_count": 63,
   "metadata": {},
   "outputs": [],
   "source": [
    "df['product_classification'] = df['product_classification'].astype(str)\n",
    "df['product_code'] = df['product_code'].astype(str)"
   ]
  },
  {
   "cell_type": "code",
   "execution_count": 64,
   "metadata": {},
   "outputs": [
    {
     "name": "stdout",
     "output_type": "stream",
     "text": [
      "<class 'pandas.core.frame.DataFrame'>\n",
      "RangeIndex: 216864 entries, 0 to 216863\n",
      "Data columns (total 9 columns):\n",
      " #   Column                  Non-Null Count   Dtype         \n",
      "---  ------                  --------------   -----         \n",
      " 0   Date                    216864 non-null  datetime64[ns]\n",
      " 1   membership_card_number  216864 non-null  object        \n",
      " 2   age                     216864 non-null  object        \n",
      " 3   region                  216864 non-null  object        \n",
      " 4   product_classification  216864 non-null  object        \n",
      " 5   product_code            216864 non-null  object        \n",
      " 6   quantity                216864 non-null  int64         \n",
      " 7   cost                    216864 non-null  int64         \n",
      " 8   sales                   216864 non-null  int64         \n",
      "dtypes: datetime64[ns](1), int64(3), object(5)\n",
      "memory usage: 14.9+ MB\n"
     ]
    }
   ],
   "source": [
    "df.info()"
   ]
  },
  {
   "cell_type": "code",
   "execution_count": null,
   "metadata": {},
   "outputs": [],
   "source": []
  },
  {
   "cell_type": "code",
   "execution_count": null,
   "metadata": {},
   "outputs": [],
   "source": []
  }
 ],
 "metadata": {
  "kernelspec": {
   "display_name": "Python 3 (ipykernel)",
   "language": "python",
   "name": "python3"
  },
  "language_info": {
   "codemirror_mode": {
    "name": "ipython",
    "version": 3
   },
   "file_extension": ".py",
   "mimetype": "text/x-python",
   "name": "python",
   "nbconvert_exporter": "python",
   "pygments_lexer": "ipython3",
   "version": "3.11.7"
  }
 },
 "nbformat": 4,
 "nbformat_minor": 4
}
