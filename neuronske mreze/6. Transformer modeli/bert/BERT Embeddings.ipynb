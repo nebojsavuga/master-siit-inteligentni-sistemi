{
 "cells": [
  {
   "cell_type": "markdown",
   "id": "a2526b75-8c9f-4c8c-b30c-1030a1d6b9eb",
   "metadata": {},
   "source": [
    "# BERT Embeddings\n",
    "\n",
    "Korišćenje *BERT embeddings*-a kao ulaz za klasifikaciju teksta uz pomoć neuronske mreže. \n",
    "Porediće se 4 modela:\n",
    "* MLP sa Keras Embeddings\n",
    "* GRU RNN sa Keras Embeddings\n",
    "* MLP sa BERT Embeddings\n",
    "* GRU RNN sa BERT Embeddings"
   ]
  },
  {
   "cell_type": "code",
   "execution_count": null,
   "id": "483ce8c4-f26b-4686-9c5d-0abe66abda81",
   "metadata": {},
   "outputs": [],
   "source": [
    "import numpy as np\n",
    "\n",
    "from tensorflow import keras\n",
    "from keras.models import Sequential\n",
    "from keras.datasets import imdb\n",
    "from keras.layers import Dense, Embedding, GRU, Flatten, Input\n",
    "from keras.preprocessing import sequence\n",
    "\n",
    "import torch\n",
    "from transformers import BertTokenizer, BertModel\n",
    "\n",
    "from matplotlib import pyplot as plt\n",
    "%matplotlib inline\n",
    "\n",
    "np.random.seed(1244)"
   ]
  },
  {
   "cell_type": "markdown",
   "id": "671c8ec8-14fa-4a5b-b3f1-cf4e8b745f41",
   "metadata": {},
   "source": [
    "## Keras Embeddings\n",
    "\n",
    "Učitavanje i priprema podataka za Keras Embeddings"
   ]
  },
  {
   "cell_type": "code",
   "execution_count": null,
   "id": "ca296b43-cf34-457b-9416-a171eeb9830d",
   "metadata": {},
   "outputs": [],
   "source": [
    "max_features = 1000\n",
    "(x_train, y_train), (x_test, y_test) = imdb.load_data(num_words=max_features)\n",
    "\n",
    "maxlen = 10\n",
    "x_train = sequence.pad_sequences(x_train, maxlen=maxlen)\n",
    "x_test = sequence.pad_sequences(x_test, maxlen=maxlen)\n",
    "print(\"Train data shape X: \", x_train.shape)\n",
    "print(\"Train data example X: \", x_train[0])\n",
    "print(\"\\nTrain data shape y: \", y_train.shape)\n",
    "print(\"Train data example y:\", y_train[0])\n",
    "print(\"\\nTest data shape: \", x_test.shape)\n",
    "print(\"Test data example X: \", x_test[0])\n",
    "print(\"\\nTest data shape y: \", y_test.shape)\n",
    "print(\"Test data example y: \", y_test[0])\n",
    "\n",
    "epochs = 10"
   ]
  },
  {
   "cell_type": "markdown",
   "id": "faaf7eed-78f8-47f9-8f9b-9306c943fccc",
   "metadata": {},
   "source": [
    "### MLP"
   ]
  },
  {
   "cell_type": "code",
   "execution_count": null,
   "id": "03cac309-04d6-418a-b011-374fe14729f7",
   "metadata": {},
   "outputs": [],
   "source": [
    "model = Sequential()\n",
    "model.add(Embedding(input_dim=max_features, output_dim=100))\n",
    "model.add(Flatten())\n",
    "model.add(Dense(64, activation=\"relu\"))\n",
    "model.add(Dense(32, activation=\"relu\"))\n",
    "model.add(Dense(1, activation=\"sigmoid\"))\n",
    "\n",
    "model.compile(loss=\"binary_crossentropy\", optimizer=\"adam\", metrics=[\"accuracy\"])\n",
    "\n",
    "res_mlp = model.fit(x_train, y_train, batch_size=256, epochs=epochs, validation_data=(x_test, y_test))\n",
    "\n",
    "model.summary()"
   ]
  },
  {
   "cell_type": "markdown",
   "id": "d5b42683-d8f1-4974-aaec-31ce712885a8",
   "metadata": {},
   "source": [
    "### GRU"
   ]
  },
  {
   "cell_type": "code",
   "execution_count": null,
   "id": "815bff76-def1-437c-8033-11a70c5b315b",
   "metadata": {},
   "outputs": [],
   "source": [
    "model = Sequential()\n",
    "model.add(Embedding(input_dim=max_features, output_dim=100))\n",
    "model.add(GRU(20, return_sequences=False))\n",
    "model.add(Dense(1, activation=\"sigmoid\"))\n",
    "\n",
    "model.compile(loss=\"binary_crossentropy\", optimizer=\"adam\", metrics=[\"accuracy\"])\n",
    "\n",
    "res_gru = model.fit(x_train, y_train, batch_size=256, epochs=epochs, validation_data=(x_test, y_test))\n",
    "\n",
    "model.summary()"
   ]
  },
  {
   "cell_type": "markdown",
   "id": "e8bc6651-f354-40f7-9bcd-afac730900df",
   "metadata": {},
   "source": [
    "## BERT"
   ]
  },
  {
   "cell_type": "markdown",
   "id": "ff72a8d9-9228-40fb-bb27-c0749cc1a06d",
   "metadata": {},
   "source": [
    "Koristimo pretrenirani BERT model iz *transformers* biblioteke da generišemo *embeddings* za neuronskre mreže.\n",
    "\n",
    "#### Učitavanje modela"
   ]
  },
  {
   "cell_type": "code",
   "execution_count": null,
   "id": "1ecd31aa-acc6-47e1-b148-3563a44cd809",
   "metadata": {},
   "outputs": [],
   "source": [
    "bert_model_name = \"bert-base-uncased\"\n",
    "tokenizer = BertTokenizer.from_pretrained(bert_model_name)\n",
    "bert_model = BertModel.from_pretrained(bert_model_name)"
   ]
  },
  {
   "cell_type": "markdown",
   "id": "cdc6bc52-464e-4e9e-8b42-32cc522cb193",
   "metadata": {},
   "source": [
    "#### Pretprocesiranje podataka za BERT"
   ]
  },
  {
   "cell_type": "code",
   "execution_count": null,
   "id": "b55e6ad0-7066-41d4-96ad-77dae8f2b5ba",
   "metadata": {},
   "outputs": [],
   "source": [
    "# konverzija teksta u sekvence za BERT\n",
    "# input_ids - ID tokena ulaznog teksta \n",
    "# attention_mask - 1 za stvarne tokene, 0 za padding\n",
    "def preprocess_data(x_data, tokenizer, maxlen):\n",
    "    texts = [' '.join(map(str, seq)) for seq in x_data]\n",
    "    encodings = tokenizer(texts, truncation=True, padding=True, max_length=maxlen, return_tensors=\"pt\")\n",
    "    return encodings['input_ids'], encodings['attention_mask']\n",
    "\n",
    "x_train_ids, x_train_masks = preprocess_data(x_train, tokenizer, maxlen)\n",
    "x_test_ids, x_test_masks = preprocess_data(x_test, tokenizer, maxlen)"
   ]
  },
  {
   "cell_type": "markdown",
   "id": "cdf4ffe3-7b4e-4ca6-b2d5-66642d9e692c",
   "metadata": {},
   "source": [
    "#### Generisanje BERT Embeddings"
   ]
  },
  {
   "cell_type": "code",
   "execution_count": null,
   "id": "f3733d95-5c51-430c-b000-028c4a0bbda8",
   "metadata": {},
   "outputs": [],
   "source": [
    "def get_bert_embeddings(input_ids, attention_mask):\n",
    "    bert_model.eval() # postavljamo model u evaluacioni režim\n",
    "    with torch.no_grad():\n",
    "        outputs = bert_model(input_ids, attention_mask=attention_mask)\n",
    "    return outputs.last_hidden_state\n",
    "\n",
    "train_embeddings = get_bert_embeddings(x_train_ids, x_train_masks)\n",
    "test_embeddings = get_bert_embeddings(x_test_ids, x_test_masks)\n",
    "print(\"Train data shape X: \", train_embeddings.shape)\n",
    "print(\"Train data example X: \", train_embeddings[0])\n",
    "print(\"\\nTrain data shape y: \", y_train.shape)\n",
    "print(\"Train data example y:\", y_train[0])\n",
    "print(\"\\nTest data shape: \", test_embeddings.shape)\n",
    "print(\"Test data example X: \", test_embeddings[0])\n",
    "print(\"\\nTest data shape y: \", y_test.shape)\n",
    "print(\"Test data example y: \", y_test[0])"
   ]
  },
  {
   "cell_type": "markdown",
   "id": "bf3aed97-7422-4f6e-ad34-a22536ca2f36",
   "metadata": {},
   "source": [
    "### MLP"
   ]
  },
  {
   "cell_type": "markdown",
   "id": "c2c20834-fc10-4416-a580-fb0d8e33a2a1",
   "metadata": {},
   "source": [
    "Promena oblika podataka u oblik neophodan za ulaz u Keras MLP:"
   ]
  },
  {
   "cell_type": "code",
   "execution_count": null,
   "id": "ca4e844d-f347-410a-a911-9ff3309bee25",
   "metadata": {},
   "outputs": [],
   "source": [
    "# konverzija iz (batch_size, seq_len, hidden_dim) u (batch_size, hidden_dim)\n",
    "# batch_size - broj ulazna u batch-u\n",
    "# seq_len - broj tokena u sekvenci \n",
    "# hidden_dim - dimenzionalnost BERT embeddinga - 768\n",
    "train_embeddings_mlp = train_embeddings.mean(dim=1).numpy()\n",
    "test_embeddings_mlp = test_embeddings.mean(dim=1).numpy()"
   ]
  },
  {
   "cell_type": "code",
   "execution_count": null,
   "id": "a5980441-2510-4d57-801a-1db46383d0be",
   "metadata": {},
   "outputs": [],
   "source": [
    "model = Sequential()\n",
    "model.add(Input(shape=(train_embeddings_mlp.shape[1],)))\n",
    "model.add(Dense(64, activation=\"relu\"))\n",
    "model.add(Dense(32, activation=\"relu\"))\n",
    "model.add(Dense(1, activation=\"sigmoid\"))\n",
    "\n",
    "model.compile(loss=\"binary_crossentropy\", optimizer=\"adam\", metrics=[\"accuracy\"])\n",
    "\n",
    "res_mlp_bert = model.fit(train_embeddings_mlp, y_train, batch_size=256, epochs=epochs, validation_data=(test_embeddings_mlp, y_test))\n",
    "\n",
    "model.summary()"
   ]
  },
  {
   "cell_type": "markdown",
   "id": "d03dd983-1507-456f-8a02-0c687b4ed3ea",
   "metadata": {},
   "source": [
    "### GRU"
   ]
  },
  {
   "cell_type": "markdown",
   "id": "83240ad2-d728-444c-848b-4469c7f2643d",
   "metadata": {},
   "source": [
    "Prebacivanje podataka u *numpy* nizove za ulaz u GRU:"
   ]
  },
  {
   "cell_type": "code",
   "execution_count": null,
   "id": "d60631bd-8471-45c5-bb94-f8583d488f1f",
   "metadata": {},
   "outputs": [],
   "source": [
    "train_embeddings_gru = train_embeddings.numpy()\n",
    "test_embeddings_gru = test_embeddings.numpy()"
   ]
  },
  {
   "cell_type": "code",
   "execution_count": null,
   "id": "0023b44b-4588-4f71-bbec-8456dcae6523",
   "metadata": {},
   "outputs": [],
   "source": [
    "model = Sequential()\n",
    "model.add(Input(shape=(train_embeddings_gru.shape[1], train_embeddings_gru.shape[2])))\n",
    "model.add(GRU(20, return_sequences=False))\n",
    "model.add(Dense(1, activation=\"sigmoid\"))\n",
    "\n",
    "model.compile(loss=\"binary_crossentropy\", optimizer=\"adam\", metrics=[\"accuracy\"])\n",
    "\n",
    "res_gru_bert = model.fit(train_embeddings_gru, y_train, batch_size=256, epochs=epochs, validation_data=(test_embeddings_gru, y_test))\n",
    "\n",
    "model.summary()"
   ]
  },
  {
   "cell_type": "markdown",
   "id": "a78229a8-87f1-44b8-84dc-b26156a51e9b",
   "metadata": {},
   "source": [
    "## Rezultati"
   ]
  },
  {
   "cell_type": "markdown",
   "id": "f2fc430b-aa75-4446-9120-c552ee88d966",
   "metadata": {},
   "source": [
    "### Loss"
   ]
  },
  {
   "cell_type": "code",
   "execution_count": null,
   "id": "137b3ff9-c8de-49b0-b05c-37e1a9485a4a",
   "metadata": {},
   "outputs": [],
   "source": [
    "x = range(epochs)\n",
    "plt.plot(x, res_mlp.history[\"loss\"], label=\"MLP train\")\n",
    "plt.plot(x, res_mlp.history[\"val_loss\"], label=\"MLP val\")\n",
    "plt.plot(x, res_gru.history[\"loss\"], label=\"GRU train\")\n",
    "plt.plot(x, res_gru.history[\"val_loss\"], label=\"GRU val\")\n",
    "plt.plot(x, res_mlp_bert.history[\"loss\"], label=\"MLP BERT train\")\n",
    "plt.plot(x, res_mlp_bert.history[\"val_loss\"], label=\"MLP BERT val\")\n",
    "plt.plot(x, res_gru_bert.history[\"loss\"], label=\"GRU BERT train\")\n",
    "plt.plot(x, res_gru_bert.history[\"val_loss\"], label=\"GRU BERT val\")\n",
    "plt.title(\"Loss\")\n",
    "plt.legend(loc=\"center left\", bbox_to_anchor=(1, 0.5))\n",
    "plt.show()"
   ]
  },
  {
   "cell_type": "markdown",
   "id": "48978645-5b3e-4f89-bc8a-9370e9230b62",
   "metadata": {},
   "source": [
    "### Accuracy"
   ]
  },
  {
   "cell_type": "code",
   "execution_count": null,
   "id": "8e500cc7-9dfc-4288-95f6-3f39b76df7e0",
   "metadata": {},
   "outputs": [],
   "source": [
    "x = range(epochs)\n",
    "plt.plot(x, res_mlp.history[\"accuracy\"], label=\"MLP train\")\n",
    "plt.plot(x, res_mlp.history[\"val_accuracy\"], label=\"MLP val\")\n",
    "plt.plot(x, res_gru.history[\"accuracy\"], label=\"GRU train\")\n",
    "plt.plot(x, res_gru.history[\"val_accuracy\"], label=\"GRU val\")\n",
    "plt.plot(x, res_mlp_bert.history[\"accuracy\"], label=\"MLP BERT train\")\n",
    "plt.plot(x, res_mlp_bert.history[\"val_accuracy\"], label=\"MLP BERT val\")\n",
    "plt.plot(x, res_gru_bert.history[\"accuracy\"], label=\"GRU BERT train\")\n",
    "plt.plot(x, res_gru_bert.history[\"val_accuracy\"], label=\"GRU BERT val\")\n",
    "plt.title(\"Accuracy\")\n",
    "plt.legend(loc=\"center left\", bbox_to_anchor=(1, 0.5))\n",
    "plt.show()"
   ]
  },
  {
   "cell_type": "code",
   "execution_count": null,
   "id": "cb69cf13-85de-4889-91c6-34a50b4b7403",
   "metadata": {},
   "outputs": [],
   "source": []
  }
 ],
 "metadata": {
  "kernelspec": {
   "display_name": "Python 3 (ipykernel)",
   "language": "python",
   "name": "python3"
  },
  "language_info": {
   "codemirror_mode": {
    "name": "ipython",
    "version": 3
   },
   "file_extension": ".py",
   "mimetype": "text/x-python",
   "name": "python",
   "nbconvert_exporter": "python",
   "pygments_lexer": "ipython3",
   "version": "3.10.14"
  }
 },
 "nbformat": 4,
 "nbformat_minor": 5
}
