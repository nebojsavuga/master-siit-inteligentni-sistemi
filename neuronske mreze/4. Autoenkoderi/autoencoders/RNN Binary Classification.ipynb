{
 "cells": [
  {
   "cell_type": "code",
   "execution_count": null,
   "metadata": {},
   "outputs": [],
   "source": [
    "import numpy as np\n",
    "\n",
    "from tensorflow import keras\n",
    "from keras.models import Sequential\n",
    "from keras.datasets import imdb\n",
    "from keras.layers import Dense, Embedding, LSTM, GRU, Bidirectional\n",
    "from keras.preprocessing import sequence\n",
    "\n",
    "from matplotlib import pyplot as plt\n",
    "%matplotlib inline"
   ]
  },
  {
   "cell_type": "code",
   "execution_count": null,
   "metadata": {},
   "outputs": [],
   "source": [
    "def load_dataset(number_of_words):\n",
    "    # save np.load\n",
    "    np_load_old = np.load\n",
    "\n",
    "    # modify the default parameters of np.load\n",
    "    np.load = lambda *a,**k: np_load_old(*a, allow_pickle=Tru)\n",
    "\n",
    "    # call load_data with allow_pickle implicitly set to true\n",
    "    (train_data, train_labels), (test_data, test_labels) = imdb.load_data(num_words=number_of_words)\n",
    "\n",
    "    # restore np.load for future normal usage\n",
    "    np.load = np_load_old\n",
    "    return (train_data, train_labels), (test_data, test_labels)"
   ]
  },
  {
   "cell_type": "code",
   "execution_count": null,
   "metadata": {},
   "outputs": [],
   "source": [
    "max_features = 1000\n",
    "(x_train, y_train), (x_test, y_test) = imdb.load_data(num_words=max_features)\n",
    "\n",
    "maxlen = 10\n",
    "x_train = sequence.pad_sequences(x_train, maxlen=maxlen)\n",
    "x_test = sequence.pad_sequences(x_test, maxlen=maxlen)\n",
    "print(x_train.shape)\n",
    "print(x_test.shape)\n",
    "\n",
    "epochs = 10"
   ]
  },
  {
   "cell_type": "code",
   "execution_count": null,
   "metadata": {},
   "outputs": [],
   "source": [
    "model = Sequential()\n",
    "model.add(Embedding(input_dim=max_features, output_dim=100, input_length=maxlen))\n",
    "model.add(GRU(20, return_sequences=False))\n",
    "model.add(Dense(1, activation='sigmoid'))\n",
    "model.summary()\n",
    "\n",
    "model.compile(loss='binary_crossentropy', optimizer='adam', metrics=['accuracy'])\n",
    "\n",
    "res_gru_1 = model.fit(x_train, y_train, batch_size=256, epochs=epochs, validation_data=(x_test, y_test))"
   ]
  },
  {
   "cell_type": "code",
   "execution_count": null,
   "metadata": {},
   "outputs": [],
   "source": [
    "model = Sequential()\n",
    "model.add(Embedding(input_dim=max_features, output_dim=100, input_length=maxlen))\n",
    "model.add(GRU(20, return_sequences=True))\n",
    "model.add(GRU(20, return_sequences=False))\n",
    "model.add(Dense(1, activation='sigmoid'))\n",
    "model.summary()\n",
    "\n",
    "model.compile(loss='binary_crossentropy', optimizer='adam', metrics=['accuracy'])\n",
    "\n",
    "res_gru_2 = model.fit(x_train, y_train, batch_size=256, epochs=epochs, validation_data=(x_test, y_test))"
   ]
  },
  {
   "cell_type": "code",
   "execution_count": null,
   "metadata": {},
   "outputs": [],
   "source": [
    "model = Sequential()\n",
    "model.add(Embedding(input_dim=max_features, output_dim=100, input_length=maxlen))\n",
    "model.add(Bidirectional(LSTM(20, return_sequences=False)))\n",
    "model.add(Dense(1, activation='sigmoid'))\n",
    "model.summary()\n",
    "\n",
    "model.compile(loss='binary_crossentropy', optimizer='adam', metrics=['accuracy'])\n",
    "\n",
    "res_lstm_1 = model.fit(x_train, y_train, batch_size=256, epochs=epochs, validation_data=(x_test, y_test))"
   ]
  },
  {
   "cell_type": "code",
   "execution_count": null,
   "metadata": {},
   "outputs": [],
   "source": [
    "x = range(epochs)\n",
    "plt.plot(x, res_gru_1.history['accuracy'], label='GRU 1 train')\n",
    "plt.plot(x, res_gru_1.history['val_accuracy'], label='GRU 1 val')\n",
    "plt.plot(x, res_gru_2.history['accuracy'], label='GRU 2 train')\n",
    "plt.plot(x, res_gru_2.history['val_accuracy'], label='GRU 2 val')\n",
    "plt.plot(x, res_lstm_1.history['accuracy'], label='LSTM train')\n",
    "plt.plot(x, res_lstm_1.history['val_accuracy'], label='LSTM val')\n",
    "plt.title('Accuracy')\n",
    "plt.legend(loc='center left', bbox_to_anchor=(1, 0.5))\n",
    "plt.show()"
   ]
  },
  {
   "cell_type": "code",
   "execution_count": null,
   "metadata": {},
   "outputs": [],
   "source": [
    "plt.plot(x, res_gru_1.history['loss'], label='GRU 1 train')\n",
    "plt.plot(x, res_gru_1.history['val_loss'], label='GRU 1 val')\n",
    "plt.plot(x, res_gru_2.history['loss'], label='GRU 2 train')\n",
    "plt.plot(x, res_gru_2.history['val_loss'], label='GRU 2 val')\n",
    "plt.plot(x, res_lstm_1.history['loss'], label='LSTM train')\n",
    "plt.plot(x, res_lstm_1.history['val_loss'], label='LSTM val')\n",
    "plt.title('Loss')\n",
    "plt.legend(loc='center left', bbox_to_anchor=(1, 0.5))\n",
    "plt.show()"
   ]
  },
  {
   "cell_type": "code",
   "execution_count": null,
   "metadata": {},
   "outputs": [],
   "source": []
  }
 ],
 "metadata": {
  "kernelspec": {
   "display_name": "Python 3 (ipykernel)",
   "language": "python",
   "name": "python3"
  },
  "language_info": {
   "codemirror_mode": {
    "name": "ipython",
    "version": 3
   },
   "file_extension": ".py",
   "mimetype": "text/x-python",
   "name": "python",
   "nbconvert_exporter": "python",
   "pygments_lexer": "ipython3",
   "version": "3.10.14"
  }
 },
 "nbformat": 4,
 "nbformat_minor": 4
}
