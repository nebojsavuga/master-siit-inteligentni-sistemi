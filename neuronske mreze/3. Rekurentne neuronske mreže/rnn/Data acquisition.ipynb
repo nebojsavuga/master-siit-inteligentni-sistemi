{
 "cells": [
  {
   "cell_type": "markdown",
   "id": "685ff5eb-1e8c-4a3e-8d20-84ed872e0212",
   "metadata": {},
   "source": [
    "# Prikupljanje podataka"
   ]
  },
  {
   "cell_type": "markdown",
   "id": "c09b7c3e-a2a9-42ec-8f89-4701b0850275",
   "metadata": {},
   "source": [
    "Preuzimanje tekstova pesama sa [Tekstovi.net](https://tekstovi.net/2,0,0.html) koristeći *Web Crawling* i *Web Scraping* tehnike uz oslonac na *Selenium*."
   ]
  },
  {
   "cell_type": "code",
   "execution_count": null,
   "id": "3710571f-b26e-45c3-82b8-9c0e8246271f",
   "metadata": {},
   "outputs": [],
   "source": [
    "from selenium import webdriver\n",
    "from selenium.webdriver.common.by import By\n",
    "\n",
    "from fuzzywuzzy import fuzz"
   ]
  },
  {
   "cell_type": "code",
   "execution_count": null,
   "id": "55ad612b-eb93-4458-8f30-2fdaad9e89aa",
   "metadata": {},
   "outputs": [],
   "source": [
    "target_artists = {\n",
    "    'folk': ['ceca', 'aca lukas', 'lepa brena', 'dara bubamara', 'seka aleksic', 'dragana mirkovic', 'mile kitic',\n",
    "             'mitar miric', 'toma zdravkovic', 'lepa lukic', 'silvana armenulic', 'semsa suljakovic', 'ahmedovski',\n",
    "             'indira radic', 'sasa matic'],\n",
    "    'rock': ['generacija 5', 'kerber', 'bijelo dugme', 'azra', 'bajaga', 'galija', 'parni valjak', 'riblja corba'],\n",
    "    'pop': ['funky g', 'jelena tomasevic', 'marija serifovic', 'jelena karleusa', 'zeljko joksimovic', 'severina',\n",
    "            'bekvalac', 'sasa kovacevic', 'luna']\n",
    "}"
   ]
  },
  {
   "cell_type": "code",
   "execution_count": null,
   "id": "350a15f6-6250-4523-85b5-14ed16d72d14",
   "metadata": {},
   "outputs": [],
   "source": [
    "# definisanje pretraživača i pozicioniranje na početnu stranu\n",
    "driver = webdriver.Firefox()\n",
    "driver.get(\"https://tekstovi.net\")\n",
    "\n",
    "print(\"\\nPreuzimanje linkova iz menija slova...\")\n",
    "first_letter_links = [link.get_attribute(\"href\") for link in\n",
    "                      driver.find_elements(By.XPATH, \"//*[@id='meni_slova']//td/a\")]\n",
    "print(f\"\\nPreuzeti linkovi: {first_letter_links}\")\n",
    "\n",
    "print(\"\\nPreuzimanje izvođača...\")\n",
    "artists = {}\n",
    "for first_letter_link in first_letter_links:\n",
    "    driver.get(first_letter_link)\n",
    "    for artist in driver.find_elements(By.XPATH, \"//*[@class='artLyrList']/a\"):\n",
    "        artists[artist.text] = artist.get_attribute('href')\n",
    "print(f\"\\nPreuzeti izvođači: {artists}\")\n",
    "\n",
    "print(\"\\nPreuzimanje tekstova pesama za preuzete izvođače...\")\n",
    "for genre in target_artists.keys():\n",
    "    print(f\"\\n\\n\\nPreuzimanje tekstova za žanr: {genre}\")\n",
    "    \n",
    "    for artist_name in target_artists[genre]:\n",
    "        print(f\"\\nPreuzimanje tekstova za izvođača: {artist_name}\")\n",
    "        \n",
    "        for known_name in artists.keys():\n",
    "            if fuzz.ratio(artist_name.lower(), known_name.lower()) > 95:\n",
    "                # otvaranje stranice izvođača i preuzimanje tekstova\n",
    "                print(\"Započeto: \" + known_name)\n",
    "                driver.get(artists[known_name])\n",
    "                song_links = [link.get_attribute('href') for link in\n",
    "                              driver.find_elements(By.XPATH, \"//*[@class='artLyrList']/a\")]\n",
    "                \n",
    "                # preuzimanje pesmu po pesmu\n",
    "                for song_link in song_links:\n",
    "                    driver.get(song_link)\n",
    "                    song_name = driver.find_element(By.XPATH, \"//h2[@class='lyricCapt']\").text\n",
    "\n",
    "                    # izdvajanje teksta\n",
    "                    lyric_text = \"\"\n",
    "                    for lyric_part in driver.find_elements(By.XPATH, \"//*[@class='lyric']\"):\n",
    "                        lyric_text += lyric_part.text + '\\n\\n'\n",
    "                    \n",
    "                    # upis teksta u fajl\n",
    "                    with open('./data/' + genre + '/' + known_name + ' - ' + song_name + '.txt', 'w') as output_stream:\n",
    "                        output_stream.write(lyric_text)\n",
    "                print(\"Završeno: \" + known_name)\n",
    "\n",
    "# zatvaranje pretraživača\n",
    "driver.close()"
   ]
  },
  {
   "cell_type": "code",
   "execution_count": null,
   "id": "0ffff433-e76a-4288-a52d-887fab7db564",
   "metadata": {},
   "outputs": [],
   "source": []
  }
 ],
 "metadata": {
  "kernelspec": {
   "display_name": "Python 3 (ipykernel)",
   "language": "python",
   "name": "python3"
  },
  "language_info": {
   "codemirror_mode": {
    "name": "ipython",
    "version": 3
   },
   "file_extension": ".py",
   "mimetype": "text/x-python",
   "name": "python",
   "nbconvert_exporter": "python",
   "pygments_lexer": "ipython3",
   "version": "3.10.14"
  }
 },
 "nbformat": 4,
 "nbformat_minor": 5
}
