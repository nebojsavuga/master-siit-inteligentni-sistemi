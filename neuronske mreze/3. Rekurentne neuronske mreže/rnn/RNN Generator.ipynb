{
 "cells": [
  {
   "cell_type": "markdown",
   "id": "21727fbc-57a3-49f1-9c0a-8cbefe92921e",
   "metadata": {},
   "source": [
    "# Generisanje teksta"
   ]
  },
  {
   "cell_type": "markdown",
   "id": "3ebcbd1a-06d6-403f-a24b-6942dea3fa42",
   "metadata": {},
   "source": [
    "Primer rekurentne neuronske mreže (RNN) za generisanje teksta na osnovu datog korpusa. \n",
    "Moguć izbor generisanja:\n",
    "* teksta na engleskom jeziku\n",
    "* teksta pesme na srpskom jeziku za željenog izvođača.\n",
    "\n",
    "Potrebno je oko 20ak epoha da generisani tekst zvuči koherentno.\n",
    "Poželjno je da se ovo izvršava na GPU.\n",
    "Ako se ovo primenjuje na novim podacima, poželjno je da isti imaju oko 100k karaktera, idealno blizu 1M."
   ]
  },
  {
   "cell_type": "code",
   "execution_count": null,
   "id": "c8b9fcd7-e2e2-4d3d-a6d0-12baa46f78a2",
   "metadata": {},
   "outputs": [],
   "source": [
    "import io\n",
    "import os\n",
    "import sys\n",
    "import random\n",
    "\n",
    "import numpy as np\n",
    "\n",
    "from tensorflow import keras\n",
    "from keras.callbacks import LambdaCallback\n",
    "from keras.models import Sequential\n",
    "from keras.layers import Dense, LSTM, Input\n",
    "from keras.optimizers import RMSprop\n",
    "from keras.utils import get_file"
   ]
  },
  {
   "cell_type": "markdown",
   "id": "8d39c7d1-2e2c-4782-a474-c648f06d9a21",
   "metadata": {},
   "source": [
    "## Korpus\n",
    "\n",
    "### Izbor"
   ]
  },
  {
   "cell_type": "code",
   "execution_count": null,
   "id": "3410ffdf-b36a-4763-8094-2330e9bd519e",
   "metadata": {},
   "outputs": [],
   "source": [
    "POSSIBILITES = [\n",
    "    # english\n",
    "    'nietzsche',\n",
    "    'crusoe',\n",
    "    # serbian\n",
    "    'folk',\n",
    "    'rock',\n",
    "    'pop'\n",
    "]\n",
    "\n",
    "MODEL_MODE = POSSIBILITES[2]\n",
    "ARTIST = \"Mitar\""
   ]
  },
  {
   "cell_type": "markdown",
   "id": "6f1376ad-fc10-47f0-a1ab-1d1a186bd058",
   "metadata": {},
   "source": [
    "### Priprema"
   ]
  },
  {
   "cell_type": "code",
   "execution_count": null,
   "id": "d28cc620-7448-4847-ac43-e36a3eeef7b3",
   "metadata": {},
   "outputs": [],
   "source": [
    "if MODEL_MODE == 'nietzsche':\n",
    "    # preuzimanje teksta \n",
    "    path = get_file('nietzsche.txt', origin='https://s3.amazonaws.com/text-datasets/nietzsche.txt')\n",
    "    with io.open(path, encoding='utf-8') as f:\n",
    "        text = f.read().lower()\n",
    "\n",
    "elif MODEL_MODE == 'crusoe':\n",
    "    # učitavanje teksta iz fajla\n",
    "    with open('./data/crusoe.txt', 'r') as crusoe_file:\n",
    "        text = crusoe_file.read()\n",
    "\n",
    "elif MODEL_MODE in ['folk', 'pop', 'rock']:\n",
    "    # učitavanje svih tekstova za željenog izvođača\n",
    "    text = \"\"\n",
    "    file_names = [f for f in os.listdir('./data/' + MODEL_MODE + '/') if os.path.isfile(os.path.join('./data/' + MODEL_MODE + '/', f))]\n",
    "    for file_name in file_names:\n",
    "        if not file_name.startswith(ARTIST):\n",
    "            continue\n",
    "        with open('./data/' + MODEL_MODE + '/' + file_name, 'r') as song_text_file:\n",
    "            text += song_text_file.read() + '@\\n' # generisaće tekst dok ne dođe do @\n",
    "    text = text.replace('\"', '')"
   ]
  },
  {
   "cell_type": "code",
   "execution_count": null,
   "id": "c925988d-05b3-488a-8f28-b3884704edfe",
   "metadata": {},
   "outputs": [],
   "source": [
    "print(\"Dužina korpusa:\", len(text))\n",
    "\n",
    "chars = sorted(list(set(text)))\n",
    "print(\"Ukupno jedinstvenih karaktera:\", len(chars))\n",
    "print(chars)"
   ]
  },
  {
   "cell_type": "code",
   "execution_count": null,
   "id": "aa4a74f3-f4a2-4912-9d1e-406267d5a4b6",
   "metadata": {},
   "outputs": [],
   "source": [
    "# indeksiranje karaktera\n",
    "char_indices = dict((c, i) for i, c in enumerate(chars))\n",
    "indices_char = dict((i, c) for i, c in enumerate(chars))"
   ]
  },
  {
   "cell_type": "markdown",
   "id": "6fb0a063-4ee0-4ca0-b693-cb74b3ba1c0c",
   "metadata": {},
   "source": [
    "## Pretprocesiranje"
   ]
  },
  {
   "cell_type": "markdown",
   "id": "c191b627-d7c4-4f63-8ea2-c37509ada496",
   "metadata": {},
   "source": [
    "Isecanje teksta u sekvence `maxlen` karaktera"
   ]
  },
  {
   "cell_type": "code",
   "execution_count": null,
   "id": "389e3b32-6aff-4c0a-95ba-2d7c573b240d",
   "metadata": {},
   "outputs": [],
   "source": [
    "maxlen = 40\n",
    "step = 3\n",
    "sentences = []\n",
    "next_chars = []\n",
    "for i in range(0, len(text) - maxlen, step):\n",
    "    sentences.append(text[i: i + maxlen])\n",
    "    next_chars.append(text[i + maxlen])\n",
    "print(\"Broj sekvenci:\", len(sentences))"
   ]
  },
  {
   "cell_type": "markdown",
   "id": "1a0e9d5c-c919-41f5-93b0-638b901b5917",
   "metadata": {},
   "source": [
    "## Vektorizacija"
   ]
  },
  {
   "cell_type": "code",
   "execution_count": null,
   "id": "9ea0c1c1-04f2-42a2-b5c5-3e45abfd8101",
   "metadata": {},
   "outputs": [],
   "source": [
    "x = np.zeros((len(sentences), maxlen, len(chars)), dtype=bool)\n",
    "y = np.zeros((len(sentences), len(chars)), dtype=bool)\n",
    "for i, sentence in enumerate(sentences):\n",
    "    for t, char in enumerate(sentence):\n",
    "        x[i, t, char_indices[char]] = 1\n",
    "    y[i, char_indices[next_chars[i]]] = 1\n",
    "\n",
    "print(\"Dimenzije ulaza:\", x.shape)\n",
    "print(\"Dimenzije izlaza:\", y.shape)"
   ]
  },
  {
   "cell_type": "markdown",
   "id": "dd672292-61a4-4444-b5f6-6ef99888a91b",
   "metadata": {},
   "source": [
    "## Model"
   ]
  },
  {
   "cell_type": "markdown",
   "id": "8f306ac2-b599-4bf3-b9ab-14249d5ac108",
   "metadata": {},
   "source": [
    "### Arhitektura"
   ]
  },
  {
   "cell_type": "code",
   "execution_count": null,
   "id": "f6d83911-3d97-447f-b3de-8444b6ff8a80",
   "metadata": {},
   "outputs": [],
   "source": [
    "model = Sequential()\n",
    "model.add(Input(shape=(maxlen, len(chars))))\n",
    "model.add(LSTM(128))\n",
    "model.add(Dense(len(chars), activation='softmax'))\n",
    "\n",
    "model.summary()"
   ]
  },
  {
   "cell_type": "markdown",
   "id": "9922c3d2-c329-45eb-9eab-1cf856cb5680",
   "metadata": {},
   "source": [
    "### Optimizacija"
   ]
  },
  {
   "cell_type": "code",
   "execution_count": null,
   "id": "bb6b2954-bb66-49f0-8348-42f87199ef9c",
   "metadata": {},
   "outputs": [],
   "source": [
    "optimizer = RMSprop(learning_rate=0.01)\n",
    "model.compile(loss='categorical_crossentropy', optimizer=optimizer)"
   ]
  },
  {
   "cell_type": "markdown",
   "id": "bd076f67-7f8f-4677-a2e4-3c5a747b49a4",
   "metadata": {},
   "source": [
    "## Treniranje"
   ]
  },
  {
   "cell_type": "markdown",
   "id": "532adcf0-9eac-4b46-b76a-dd729994c488",
   "metadata": {},
   "source": [
    "Pomoćna funkcija za uzorkovanje indeksa iz niza verovatnoća:"
   ]
  },
  {
   "cell_type": "code",
   "execution_count": null,
   "id": "f6a78ed1-7a70-4712-8c91-50a951b5a57a",
   "metadata": {},
   "outputs": [],
   "source": [
    "def sample(preds, temperature=1.0):\n",
    "    # temperature parametar za \"inovativnost\" mreže - omogućava slovima koja i nisu najverovatnija da budu izabrana\n",
    "    # 0 - manje eksperimentiše/inovira, 1 - više eksperimentiše/inovira\n",
    "    preds = np.asarray(preds).astype('float64')\n",
    "    preds = np.log(preds) / temperature\n",
    "    exp_preds = np.exp(preds)\n",
    "    preds = exp_preds / np.sum(exp_preds)\n",
    "    probas = np.random.multinomial(1, preds, 1)\n",
    "    return np.argmax(probas)"
   ]
  },
  {
   "cell_type": "markdown",
   "id": "0f0b51f7-b87c-4fc2-b92e-36de9677e597",
   "metadata": {},
   "source": [
    "Funkcija koja se poziva na kraju svake epohe kako bi prikazala generisani tekst:"
   ]
  },
  {
   "cell_type": "code",
   "execution_count": null,
   "id": "836322ad-1bd6-4a85-8ded-c2b4dc71edd8",
   "metadata": {},
   "outputs": [],
   "source": [
    "def on_epoch_end(epoch, _):\n",
    "    print()\n",
    "    print('\\n----- Generisanje teksta nakon epohe: %d' % epoch)\n",
    "\n",
    "    start_index = random.randint(0, len(text) - maxlen - 1)\n",
    "    for diversity in [0.2, 0.5, 1.0, 1.2]:\n",
    "        print('\\n----- Inovativnost (temperatura):', diversity)\n",
    "\n",
    "        generated = ''\n",
    "        sentence = text[start_index: start_index + maxlen]\n",
    "        generated += sentence\n",
    "        print('----- Generisanje na osnovu: \"' + sentence + '\"')\n",
    "        print('----- Generisani tekst:')\n",
    "        sys.stdout.write(generated)\n",
    "\n",
    "        for i in range(400): \n",
    "            x_pred = np.zeros((1, maxlen, len(chars)))\n",
    "            for t, char in enumerate(sentence):\n",
    "                x_pred[0, t, char_indices[char]] = 1.\n",
    "\n",
    "            preds = model.predict(x_pred, verbose=0)[0]\n",
    "            next_index = sample(preds, diversity)\n",
    "            next_char = indices_char[next_index]\n",
    "\n",
    "            if next_char == '@':\n",
    "                break\n",
    "\n",
    "            generated += next_char\n",
    "            sentence = sentence[1:] + next_char\n",
    "\n",
    "            sys.stdout.write(next_char)\n",
    "            sys.stdout.flush()\n",
    "        print()"
   ]
  },
  {
   "cell_type": "code",
   "execution_count": null,
   "id": "696e00e6-179e-4987-b075-8869dcc82978",
   "metadata": {},
   "outputs": [],
   "source": [
    "print_callback = LambdaCallback(on_epoch_end=on_epoch_end)"
   ]
  },
  {
   "cell_type": "markdown",
   "id": "cd012c9a-3018-4018-b8e8-8c940ad1d35f",
   "metadata": {},
   "source": [
    "Treniranje i ispis teksta nakon svake epohe:"
   ]
  },
  {
   "cell_type": "code",
   "execution_count": null,
   "id": "61b4b06f-0a49-4f13-a17a-6b5fa36d3b7a",
   "metadata": {},
   "outputs": [],
   "source": [
    "model.fit(x, y, batch_size=1024, epochs=60, callbacks=[print_callback])"
   ]
  },
  {
   "cell_type": "code",
   "execution_count": null,
   "id": "e6c7e0e9-8273-4514-9d65-730ec5810311",
   "metadata": {},
   "outputs": [],
   "source": []
  }
 ],
 "metadata": {
  "kernelspec": {
   "display_name": "Python 3 (ipykernel)",
   "language": "python",
   "name": "python3"
  },
  "language_info": {
   "codemirror_mode": {
    "name": "ipython",
    "version": 3
   },
   "file_extension": ".py",
   "mimetype": "text/x-python",
   "name": "python",
   "nbconvert_exporter": "python",
   "pygments_lexer": "ipython3",
   "version": "3.10.14"
  }
 },
 "nbformat": 4,
 "nbformat_minor": 5
}
