{
 "cells": [
  {
   "cell_type": "markdown",
   "id": "2c52bc42-751d-4ce3-a123-ede3b67db37c",
   "metadata": {},
   "source": [
    "# Prompting"
   ]
  },
  {
   "cell_type": "code",
   "execution_count": null,
   "id": "1d45e367-6ad3-41e5-9188-08f58efb27cd",
   "metadata": {},
   "outputs": [],
   "source": [
    "import openai"
   ]
  },
  {
   "cell_type": "markdown",
   "id": "a01fc99b-145a-4bac-9b2e-ab5cb51885d1",
   "metadata": {},
   "source": [
    "*API Key* nam je neophodan za interakciju sa OpenAI klijentom. Dobija se na sledećem [linku](https://platform.openai.com/api-keys)"
   ]
  },
  {
   "cell_type": "code",
   "execution_count": null,
   "id": "b8e28be2-09e2-435a-979c-3e4a7131b64b",
   "metadata": {},
   "outputs": [],
   "source": [
    "client = openai.OpenAI(api_key=\"\")"
   ]
  },
  {
   "cell_type": "markdown",
   "id": "efc9dd76-cf17-4e54-9ef5-f66d044ffc25",
   "metadata": {},
   "source": [
    "# Chat Completions API\n",
    "\n",
    "[API Reference](https://platform.openai.com/docs/guides/text-generation/chat-completions-api)"
   ]
  },
  {
   "cell_type": "code",
   "execution_count": null,
   "id": "75686911-6cad-45e4-a3dc-03b5e43cdab9",
   "metadata": {},
   "outputs": [],
   "source": [
    "def get_completion(prompt, model=\"gpt-3.5-turbo\"):\n",
    "    messages = [{\"role\": \"user\", \"content\": prompt}]\n",
    "    response = client.chat.completions.create(\n",
    "        model=model,\n",
    "        messages=messages,\n",
    "        temperature=0\n",
    "    )\n",
    "    return response.choices[0].message.content"
   ]
  },
  {
   "cell_type": "markdown",
   "id": "fc94a9a7-4732-4207-a1c7-08b35834f0b1",
   "metadata": {},
   "source": [
    "Primer precizno definisanog prompta koji traži strukturiran izlaz:"
   ]
  },
  {
   "cell_type": "code",
   "execution_count": null,
   "id": "f71a3229-e54d-45b5-9bea-82c29770f48a",
   "metadata": {},
   "outputs": [],
   "source": [
    "prompt = f\"\"\"\n",
    "Generate a list of three made-up book titles along with their authors and genres.\n",
    "\n",
    "Provide them in JSON format with the following keys: \n",
    "book_id, title, author, genre.\n",
    "\"\"\"\n",
    "response = get_completion(prompt)\n",
    "print(response)"
   ]
  },
  {
   "cell_type": "markdown",
   "id": "3d2a8365-0a6e-47bb-b761-a33a80965727",
   "metadata": {},
   "source": [
    "## Sumarizacija teksta\n",
    "\n",
    "Primer sumarizacije teksta sa akcentom na dužinu teksta:"
   ]
  },
  {
   "cell_type": "code",
   "execution_count": null,
   "id": "e25efad5-790e-43f4-bc28-7a587d319811",
   "metadata": {},
   "outputs": [],
   "source": [
    "summary_text = \"\"\"\n",
    "Antibiotics are a type of medication used to treat bacterial infections.\\\n",
    "They work by either killing the bacteria or preventing them from reproducing,\\\n",
    "allowing the body’s immune system to fight off the infection.\\\n",
    "Antibiotics are usually taken orally in the form of pills, capsules,\\\n",
    "or liquid solutions, or sometimes administered intravenously.\\\n",
    "They are not effective against viral infections,\\\n",
    "and using them inappropriately can lead to antibiotic resistance.\n",
    "\"\"\""
   ]
  },
  {
   "cell_type": "code",
   "execution_count": null,
   "id": "862f2aca-478d-4851-901a-f925daf097ab",
   "metadata": {},
   "outputs": [],
   "source": [
    "prompt = f\"\"\"\n",
    "Your task is to generate a short summary of a text.\n",
    "Summarize the text below in one sentence.\n",
    "\n",
    "Text: ```{summary_text}```\n",
    "\"\"\"\n",
    "\n",
    "response = get_completion(prompt)\n",
    "print(response)"
   ]
  },
  {
   "cell_type": "markdown",
   "id": "af10ecab-973c-4952-997b-cc94b285a36d",
   "metadata": {},
   "source": [
    "## Ekstrakcija informacija\n",
    "\n",
    "Primer ekstrakcije informacija iz datog paragrafa:"
   ]
  },
  {
   "cell_type": "code",
   "execution_count": null,
   "id": "c257e847-a3fb-4def-8a07-01db5599c4cd",
   "metadata": {},
   "outputs": [],
   "source": [
    "ie_text = \"\"\"\n",
    "Author-contribution statements and acknowledgements in research papers should state clearly and specifically whether,\\\n",
    "and to what extent, the authors used AI technologies such as ChatGPT in the preparation of their manuscript and analysis.\\\n",
    "They should also indicate which LLMs were used. This will alert editors and reviewers to scrutinize manuscripts more carefully\\\n",
    "for potential biases, inaccuracies and improper source crediting. Likewise, scientific journals should be transparent about\\\n",
    "their use of LLMs, for example when selecting submitted manuscripts.\n",
    "\"\"\""
   ]
  },
  {
   "cell_type": "code",
   "execution_count": null,
   "id": "a6f8e613-b4de-4680-a76f-b65b559ca912",
   "metadata": {},
   "outputs": [],
   "source": [
    "prompt = f\"\"\"\n",
    "{ie_text}\n",
    "\n",
    "Mention the large language model based product mentioned in the paragraph above:\n",
    "\"\"\"\n",
    "\n",
    "response = get_completion(prompt)\n",
    "print(response)"
   ]
  },
  {
   "cell_type": "markdown",
   "id": "b5eabf61-8c81-4bce-8555-8c1251613030",
   "metadata": {},
   "source": [
    "## Odgovaranje na pitanja\n",
    "\n",
    "Primer odgovora na pitanje sa datim kontekstom:"
   ]
  },
  {
   "cell_type": "code",
   "execution_count": null,
   "id": "8541c9b7-e159-4ca9-b8df-43b229e021c2",
   "metadata": {},
   "outputs": [],
   "source": [
    "context = \"\"\"\n",
    "Teplizumab traces its roots to a New Jersey drug company called Ortho Pharmaceutical.\\\n",
    "There, scientists generated an early version of the antibody, dubbed OKT3.\\\n",
    "Originally sourced from mice, the molecule was able to bind to the surface of T cells\\\n",
    "and limit their cell-killing potential. In 1986, it was approved to help prevent organ\\\n",
    "rejection after kidney transplants, making it the first therapeutic antibody allowed for human use.\n",
    "\"\"\""
   ]
  },
  {
   "cell_type": "code",
   "execution_count": null,
   "id": "00e9c71a-857c-4cc6-9b8e-ae0f612888d4",
   "metadata": {},
   "outputs": [],
   "source": [
    "prompt = f\"\"\"\n",
    "Answer the question based on the context below.\\\n",
    "Keep the answer short and concise.\\\n",
    "Responsd \"Unsure about answer\" if not sure aboout the answer.\\\n",
    "\n",
    "Context: {context}\n",
    "Question: What was OKT3 originally sourced from?\n",
    "Answer:\n",
    "\"\"\"\n",
    "\n",
    "response = get_completion(prompt)\n",
    "print(response)"
   ]
  },
  {
   "cell_type": "markdown",
   "id": "b254a2d6-79eb-4a8f-8d1a-4e31e7de790f",
   "metadata": {},
   "source": [
    "## Klasifikacija teksta\n",
    "\n",
    "Primer *zero-shot* klasifikacije:"
   ]
  },
  {
   "cell_type": "code",
   "execution_count": null,
   "id": "7e4ed58e-f495-469c-b503-00c90806299c",
   "metadata": {},
   "outputs": [],
   "source": [
    "prompt = f\"\"\"\n",
    "Classify the text into neutral, negative or positive.\n",
    "\n",
    "Text: I think the food was okay.\n",
    "Sentiment:\n",
    "\"\"\"\n",
    "\n",
    "response = get_completion(prompt)\n",
    "print(response)"
   ]
  },
  {
   "cell_type": "markdown",
   "id": "bc2b6295-62a3-4379-9044-3fc19a15366b",
   "metadata": {},
   "source": [
    "Primer *one-shot* klasifikacije:"
   ]
  },
  {
   "cell_type": "code",
   "execution_count": null,
   "id": "a56001f3-2c3b-4993-84db-32328453722a",
   "metadata": {},
   "outputs": [],
   "source": [
    "prompt = f\"\"\"\n",
    "Classify the text into neutral, negative or positive.\n",
    "\n",
    "Text: I think the vacation is okay.\n",
    "Sentiment: neutral\n",
    "Text: I think the food was okay.\n",
    "Sentiment:\n",
    "\"\"\"\n",
    "\n",
    "response = get_completion(prompt)\n",
    "print(response)"
   ]
  },
  {
   "cell_type": "markdown",
   "id": "1fca8e93-8800-44d3-b721-0ef072aa9058",
   "metadata": {},
   "source": [
    "Primer *few-shot* klasifikacije na srpskom jeziku:"
   ]
  },
  {
   "cell_type": "code",
   "execution_count": null,
   "id": "480caf06-9c13-460c-a53f-bde1e01b0e5f",
   "metadata": {},
   "outputs": [],
   "source": [
    "labels = [\n",
    "    {\"labela\": 0, \"opis\": \"Prijava greške\"},\n",
    "    {\"labela\": 1, \"opis\": \"Zahtev za funkcionalnošću\"},\n",
    "    {\"labela\": 2, \"opis\": \"Ocena\"},\n",
    "]"
   ]
  },
  {
   "cell_type": "code",
   "execution_count": null,
   "id": "2246cf1d-a9be-4235-856b-1a86fb5f4e0a",
   "metadata": {},
   "outputs": [],
   "source": [
    "examples = [\n",
    "    {\"labela\": 0, \"tekst\": \"Ne mogu da predjem na sledeci zadatak.\"},\n",
    "    {\"labela\": 0, \"tekst\": \"VS Code i Tutor ne saradjuju medjusobno\"},\n",
    "    {\"labela\": 1, \"tekst\": \"Povećati font određenih delova teksta.\"},\n",
    "    {\"labela\": 1, \"tekst\": \"Dodao bih kviz koji sadrži celokupno dosadašnje gradivo.\"},\n",
    "    {\"labela\": 2, \"tekst\": \"Tamna tema je super.\"},\n",
    "    {\"labela\": 2, \"tekst\": \"Zabavna je aplikacija za koriscenje\"}\n",
    "]"
   ]
  },
  {
   "cell_type": "code",
   "execution_count": null,
   "id": "15909ed8-9f79-4a92-b5a5-afd29bf71160",
   "metadata": {},
   "outputs": [],
   "source": [
    "samples = [\n",
    "    {\"tekst\": \"Treba omogućiti lakši pregled i navigaciju kroz lekcije\"},\n",
    "    {\"tekst\": \"Tamna tema mi je jako lijepa\"},\n",
    "    {\"tekst\": \"U jednom trenutku su mi se pojavljivala samo 2 pitanja od 4, samo su se vrtela ta dva pitanja u krug\"},\n",
    "]"
   ]
  },
  {
   "cell_type": "code",
   "execution_count": null,
   "id": "66631d69-485f-486c-9c53-8b2d5bf81667",
   "metadata": {},
   "outputs": [],
   "source": [
    "import pathlib\n",
    "import jinja2"
   ]
  },
  {
   "cell_type": "code",
   "execution_count": null,
   "id": "d9b03501-bffd-45bd-a287-c389a5ec007e",
   "metadata": {},
   "outputs": [],
   "source": [
    "path = pathlib.Path(\"template.jinja2\")\n",
    "\n",
    "with path.open() as f:\n",
    "    prompt_template = jinja2.Template(f.read())"
   ]
  },
  {
   "cell_type": "code",
   "execution_count": null,
   "id": "d2047a5f-0a0c-4aa8-aaf1-9a74d083b4e2",
   "metadata": {},
   "outputs": [],
   "source": [
    "prompt = prompt_template.render(\n",
    "    labels=labels,\n",
    "    examples=examples,\n",
    "    samples=samples\n",
    ")"
   ]
  },
  {
   "cell_type": "code",
   "execution_count": null,
   "id": "7b541890-da84-4fbc-b01f-cc9962665158",
   "metadata": {},
   "outputs": [],
   "source": [
    "print(prompt)"
   ]
  },
  {
   "cell_type": "code",
   "execution_count": null,
   "id": "cca060da-3d82-469e-9339-7301b19a55d2",
   "metadata": {},
   "outputs": [],
   "source": [
    "response = get_completion(prompt)\n",
    "print(response)"
   ]
  },
  {
   "cell_type": "code",
   "execution_count": null,
   "id": "f87e8d3a-e6a5-4766-9c3c-926fda23d5c6",
   "metadata": {},
   "outputs": [],
   "source": []
  }
 ],
 "metadata": {
  "kernelspec": {
   "display_name": "Python 3 (ipykernel)",
   "language": "python",
   "name": "python3"
  },
  "language_info": {
   "codemirror_mode": {
    "name": "ipython",
    "version": 3
   },
   "file_extension": ".py",
   "mimetype": "text/x-python",
   "name": "python",
   "nbconvert_exporter": "python",
   "pygments_lexer": "ipython3",
   "version": "3.10.14"
  }
 },
 "nbformat": 4,
 "nbformat_minor": 5
}
