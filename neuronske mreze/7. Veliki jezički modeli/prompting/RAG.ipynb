{
 "cells": [
  {
   "cell_type": "markdown",
   "id": "a26beebe-9a02-49aa-8282-9ff25952e4ab",
   "metadata": {},
   "source": [
    "# RAG\n",
    "\n",
    "Razvoj AI chatbot-a koji će odgovarati na pitanja vezana za procesiranje prirodnog jezika (eng. *Natural Language Processing (NLP)*) oslanjajući se na prezentacije sa predavanja."
   ]
  },
  {
   "cell_type": "markdown",
   "id": "23d1924a-58df-482b-b983-bdae60251ee0",
   "metadata": {},
   "source": [
    "## Podešavanje konekcije ka OpenAI\n",
    "\n",
    "Potrebno je da naš OpenAI API ključ postavimo kao *environment variable*. Ključ se generiše na sledećem [linku](https://platform.openai.com/api-keys)."
   ]
  },
  {
   "cell_type": "code",
   "execution_count": null,
   "id": "15e57f15-28ce-4215-a096-a4f1f7679169",
   "metadata": {},
   "outputs": [],
   "source": [
    "import os\n",
    "\n",
    "os.environ[\"OPENAI_API_KEY\"] = \"\""
   ]
  },
  {
   "cell_type": "markdown",
   "id": "10ea76ee-9702-4a94-8852-1532eaf71851",
   "metadata": {},
   "source": [
    "## Podaci\n",
    "\n",
    "### Učitavanje\n",
    "\n",
    "Radimo učitavanje podataka iz PDF-ova i radimo njihovo razbijanje na delove."
   ]
  },
  {
   "cell_type": "code",
   "execution_count": null,
   "id": "438a3ee3-5c6a-4652-b89b-d82b8bcaf105",
   "metadata": {},
   "outputs": [],
   "source": [
    "from langchain_community.document_loaders import DirectoryLoader, PyPDFLoader"
   ]
  },
  {
   "cell_type": "code",
   "execution_count": null,
   "id": "7bba4667-6e74-4343-a5ba-a4d5340b02fe",
   "metadata": {},
   "outputs": [],
   "source": [
    "folder_path = \"data/\"\n",
    "loader = DirectoryLoader(folder_path, glob=\"*pdf\", loader_cls=PyPDFLoader)\n",
    "docs = loader.load()"
   ]
  },
  {
   "cell_type": "markdown",
   "id": "757828f6-00b8-453e-b17b-cc3c7939c560",
   "metadata": {},
   "source": [
    "*PyPDF* je odmah odradio razbijanje PDF-ova na stranice. Ispisaćemo ukupan broj stranica i prikazati prvih 5 učitanih."
   ]
  },
  {
   "cell_type": "code",
   "execution_count": null,
   "id": "0643ea2e-5f50-4101-8024-9cf4c8dc2d17",
   "metadata": {},
   "outputs": [],
   "source": [
    "print(\"Broj učitanih stranica: \", len(docs))"
   ]
  },
  {
   "cell_type": "code",
   "execution_count": null,
   "id": "74b6b714-88aa-4478-b1a3-4080f2bf55db",
   "metadata": {},
   "outputs": [],
   "source": [
    "docs[:5]"
   ]
  },
  {
   "cell_type": "markdown",
   "id": "14b169da-4878-401f-baf3-ec694428e00f",
   "metadata": {},
   "source": [
    "### Podela teksta\n",
    "\n",
    "Radimo podelu teksta na delove koji će biti vektorizovani."
   ]
  },
  {
   "cell_type": "code",
   "execution_count": null,
   "id": "63007e47-2da1-40d9-9d6b-8f279334ed27",
   "metadata": {},
   "outputs": [],
   "source": [
    "from langchain_text_splitters import RecursiveCharacterTextSplitter"
   ]
  },
  {
   "cell_type": "code",
   "execution_count": null,
   "id": "3b673754-9fef-48ed-a79a-92c40b421458",
   "metadata": {},
   "outputs": [],
   "source": [
    "text_splitter = RecursiveCharacterTextSplitter(chunk_size=500, chunk_overlap=50)\n",
    "splits = text_splitter.split_documents(docs)\n",
    "print(\"Broj delova teksta: \", len(splits))"
   ]
  },
  {
   "cell_type": "code",
   "execution_count": null,
   "id": "ed5bceb5-9ae6-4aba-a933-7ed32e47742a",
   "metadata": {},
   "outputs": [],
   "source": [
    "splits[:5]"
   ]
  },
  {
   "cell_type": "markdown",
   "id": "a6c30039-aa7d-4ecb-9c6b-a95808ba3988",
   "metadata": {},
   "source": [
    "### Vektorizacija\n",
    "\n",
    "Koristimo OpenAI embedding-e da vektorizujemo tekst i sačuvamo ga u *ChromaDB* vektorskoj bazi podataka.\n",
    "Prvo ćemo kao primer pokazati kako izgleda embedding i koja mu je dimenzija, a onda ćemo embedding-ovati sve naše delove."
   ]
  },
  {
   "cell_type": "code",
   "execution_count": null,
   "id": "b3223734-7723-4355-8316-617ec857b114",
   "metadata": {},
   "outputs": [],
   "source": [
    "from langchain_chroma import Chroma\n",
    "from langchain_openai import OpenAIEmbeddings"
   ]
  },
  {
   "cell_type": "code",
   "execution_count": null,
   "id": "d93b7b0d-79b4-432d-afd1-4a98c49d64e1",
   "metadata": {},
   "outputs": [],
   "source": [
    "embeddings = OpenAIEmbeddings()\n",
    "embedded_texts = embeddings.embed_documents([\"Ovo je prva rečenica. Ovo je druga rečenica.\"])\n",
    "print(\"Ukupan broj embeddinga: \", len(embedded_texts))\n",
    "print(\"Dimenzionalnost embedding-a: \", len(embedded_texts[0]))\n",
    "print(\"Embedding prve rečenice: \\n\", embedded_texts[0])"
   ]
  },
  {
   "cell_type": "code",
   "execution_count": null,
   "id": "13255911-3036-4e77-9ba6-3d9e542f6c4d",
   "metadata": {},
   "outputs": [],
   "source": [
    "vectorstore = Chroma.from_documents(documents=splits, embedding=OpenAIEmbeddings())"
   ]
  },
  {
   "cell_type": "markdown",
   "id": "e22434f2-b74e-4765-a82e-9ca5e6c50157",
   "metadata": {},
   "source": [
    "## Pretraživač informacija\n",
    "\n",
    "Inicijalizujemo pretraživač informacija (eng. *retriever*) koji će na osnovu prosleđenog teksta dovlačiti 10 najsličnijih delova teksta. "
   ]
  },
  {
   "cell_type": "code",
   "execution_count": null,
   "id": "94be0e29-1511-446b-af99-9f22ec6c0dd6",
   "metadata": {},
   "outputs": [],
   "source": [
    "retriever = vectorstore.as_retriever(search_type=\"similarity\", search_kwargs={\"k\": 10})"
   ]
  },
  {
   "cell_type": "code",
   "execution_count": null,
   "id": "aa006ec8-5c2d-46b7-a32a-1dc9a9831749",
   "metadata": {},
   "outputs": [],
   "source": [
    "retriever.invoke(\"Koje godine je nastao Word2Vec?\")"
   ]
  },
  {
   "cell_type": "markdown",
   "id": "c9d95b1c-0a20-4425-ace5-8ffa73c48d18",
   "metadata": {},
   "source": [
    "## Prompt\n",
    "\n",
    "Definišemo naš prompt koji će prosleđivati instrukcije i dobavljene podatke velikom jezičkom modelu i na kraju vraćati odgovor."
   ]
  },
  {
   "cell_type": "code",
   "execution_count": null,
   "id": "42a27e2c-5db4-43fe-b1b7-68721fa9dbe5",
   "metadata": {},
   "outputs": [],
   "source": [
    "from langchain_core.prompts import PromptTemplate"
   ]
  },
  {
   "cell_type": "code",
   "execution_count": null,
   "id": "599e32f1-4035-440a-b441-1f7af3656c07",
   "metadata": {},
   "outputs": [],
   "source": [
    "template = \"\"\"Ti si asistent za učenje koji odgovara na studentska pitanja.\n",
    "Koristi sledeće delove dobavljenog konteksta da odgovoriš na pitanje.\n",
    "Tvoj stil treba da bude prijateljski, neformalan i informativan, a odgovori koncizni.\n",
    "Ako ti je potrebno još informacija da odgovoriš na pitanje, traži ih.\n",
    "Ako ne znaš odgovor, reci da kontaktiraju profesora ili asistenta.\n",
    "Uvek navedi dokument gde se može pronaći više informacija.\n",
    "\n",
    "Pitanje: {question}\n",
    "Kontekst: {context}\n",
    "\n",
    "Odgovor:\"\"\"\n",
    "\n",
    "prompt = PromptTemplate.from_template(template)"
   ]
  },
  {
   "cell_type": "code",
   "execution_count": null,
   "id": "5901e0f4-1d97-4999-993d-bb4a41993d0e",
   "metadata": {},
   "outputs": [],
   "source": [
    "prompt"
   ]
  },
  {
   "cell_type": "markdown",
   "id": "9ef94418-f915-41d6-a710-9daa333103b2",
   "metadata": {},
   "source": [
    "## RAG lanac\n",
    "\n",
    "Definišemo RAG lanac koji će povezati naš prompt, dobavljene podatke i jezički model kako bi odgovorio na zadato pitanje. "
   ]
  },
  {
   "cell_type": "code",
   "execution_count": null,
   "id": "f7c0b514-7fd0-4ba0-87ff-713d8827736a",
   "metadata": {},
   "outputs": [],
   "source": [
    "from langchain_openai import ChatOpenAI\n",
    "from langchain_core.output_parsers import StrOutputParser\n",
    "from langchain_core.runnables import RunnablePassthrough"
   ]
  },
  {
   "cell_type": "code",
   "execution_count": null,
   "id": "a3d1c22e-1ce9-4b30-8a16-cf50325b9881",
   "metadata": {},
   "outputs": [],
   "source": [
    "llm = ChatOpenAI(model=\"gpt-4o-mini\")"
   ]
  },
  {
   "cell_type": "code",
   "execution_count": null,
   "id": "39c43525-2078-4597-b4bf-21a5624b3317",
   "metadata": {},
   "outputs": [],
   "source": [
    "rag_chain = (\n",
    "    {\"context\": retriever, \"question\": RunnablePassthrough()}\n",
    "    | prompt\n",
    "    | llm\n",
    "    | StrOutputParser()\n",
    ")"
   ]
  },
  {
   "cell_type": "markdown",
   "id": "0939caf5-0de8-4bda-8bf3-b9e7ac30ef87",
   "metadata": {},
   "source": [
    "## Testiranje"
   ]
  },
  {
   "cell_type": "code",
   "execution_count": null,
   "id": "2ec8d0c8-7fbb-4600-848e-5f87d54f24da",
   "metadata": {},
   "outputs": [],
   "source": [
    "rag_chain.invoke(\"Koje godine je nastao Word2Vec?\")"
   ]
  },
  {
   "cell_type": "markdown",
   "id": "9b195826-d152-4646-b2b6-2424d7c60585",
   "metadata": {},
   "source": [
    "### Streaming"
   ]
  },
  {
   "cell_type": "code",
   "execution_count": null,
   "id": "e49c49fc-34a2-4ca3-9e3e-014a524eeb7a",
   "metadata": {},
   "outputs": [],
   "source": [
    "def stream_answer(question):\n",
    "    for chunk in rag_chain.stream(question):\n",
    "        print(chunk, end=\"\", flush=True)"
   ]
  },
  {
   "cell_type": "code",
   "execution_count": null,
   "id": "a63f4f15-86c2-43c8-a5d0-b5736a1faf7e",
   "metadata": {},
   "outputs": [],
   "source": [
    "stream_answer(\"Na čemu se zasniva LLaMA model?\")"
   ]
  },
  {
   "cell_type": "code",
   "execution_count": null,
   "id": "ab868130-db16-4b2b-adc2-e226413dd72e",
   "metadata": {},
   "outputs": [],
   "source": [
    "stream_answer(\"Šta je RLHF?\")"
   ]
  },
  {
   "cell_type": "markdown",
   "id": "d8059630-8957-4413-98e3-b3f2ecc18633",
   "metadata": {},
   "source": [
    "## Čišćenje memorije\n",
    "\n",
    "Na kraju rada, brišemo kolekciju iz vektorske baze podataka."
   ]
  },
  {
   "cell_type": "code",
   "execution_count": null,
   "id": "893c9c3f-048a-411f-ba5c-b3696d0f6965",
   "metadata": {},
   "outputs": [],
   "source": [
    "vectorstore.delete_collection()"
   ]
  },
  {
   "cell_type": "code",
   "execution_count": null,
   "id": "9a46f9e6-3486-4fc5-968e-ea88396c981f",
   "metadata": {},
   "outputs": [],
   "source": []
  }
 ],
 "metadata": {
  "kernelspec": {
   "display_name": "Python 3 (ipykernel)",
   "language": "python",
   "name": "python3"
  },
  "language_info": {
   "codemirror_mode": {
    "name": "ipython",
    "version": 3
   },
   "file_extension": ".py",
   "mimetype": "text/x-python",
   "name": "python",
   "nbconvert_exporter": "python",
   "pygments_lexer": "ipython3",
   "version": "3.10.14"
  }
 },
 "nbformat": 4,
 "nbformat_minor": 5
}
